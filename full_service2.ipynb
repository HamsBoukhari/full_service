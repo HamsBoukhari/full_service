{
  "nbformat": 4,
  "nbformat_minor": 0,
  "metadata": {
    "colab": {
      "provenance": [],
      "gpuType": "T4"
    },
    "kernelspec": {
      "name": "python3",
      "display_name": "Python 3"
    },
    "language_info": {
      "name": "python"
    },
    "accelerator": "GPU"
  },
  "cells": [
    {
      "cell_type": "code",
      "execution_count": 101,
      "metadata": {
        "id": "uZ0VTH7cMfgV"
      },
      "outputs": [],
      "source": [
        "import numpy as np\n",
        "import pandas as pd\n",
        "import random"
      ]
    },
    {
      "cell_type": "code",
      "source": [
        "def generate_example():\n",
        "    rptid = random.randint(2000,3000)\n",
        "    trdid = random.randint(20281004800, 40281004800)\n",
        "    mtchid = random.randint(20281001777, 40281001777)\n",
        "    lastqty = random.randint(10,20)\n",
        "    lastpx = random.randint(100,200)\n",
        "    trdt = random.choice([\"2022-12-17\",\"2023-04-20\",\"2023-06-05\",\"2023-09-28\"])\n",
        "    t = random.choice([\"2023-10-04\",\"2023-09-30\",\"2023-11-12\",\"2023-11-27\"])\n",
        "    time1 = random.choice([\"16:59\",'17:18','17:25','17:30'])\n",
        "    txntm= t+'T05:'+time1+'.749-05:00'\n",
        "    sid = random.choice([\"MGEX\",\"PLDX\",\"HPJK\"])\n",
        "    time2 = random.choice(['17:40','17:55','18:28','18:30','18:32'])\n",
        "    snt1 = t+'T05:'+time1+'.788-05:00'\n",
        "    snt2 = t+'T11:'+time2+'.348+01:00'\n",
        "    snt3 = t+'T05:'+time2+'.160-05:00'\n",
        "    snt4 = t+'T05:'+time2+'.138-05:00'\n",
        "    sym = random.choice([\"BUI\",\"ABP\",\"TMP\"])\n",
        "    my = random.choice([\"2023-12\",\"2024-01\",\"2024-02\"])\n",
        "    mmy = my.replace('-','')\n",
        "    matdt = my+'-'+str(random.randint(1,28))\n",
        "    inptsrc = random.choice(['MA','DA','BS'])\n",
        "    clordid = random.choice(['123','134','145'])\n",
        "    id = random.randint(200,300)\n",
        "    tid = 'D'+str(id)\n",
        "    id2 = random.choice(['Emira-115','Ahlem-110','Karim-200','Mohamed-300'])\n",
        "    typ = random.randint(20,30)\n",
        "    id3 = random.choice([\"FIRMACT1\",\"AKLPM9\",\"MPLAMP6\"])\n",
        "    custcpcty = random.randint(2,5)\n",
        "    r1 = random.randint(20,23)\n",
        "    r2 = random.randint(1,3)\n",
        "    r3 = random.randint(4,9)\n",
        "    r4 = random.randint(24,29)\n",
        "    r5 = random.randint(11,19)\n",
        "    typ2 = random.randint(1,5)\n",
        "    ex = random.choice(['BTNL','SNTL','HDPL'])\n",
        "    mult = random.choice([0.1, 0.2, 0.3, 0.4, 0.5])\n",
        "    pos1 = random.choice(['M','N','P'])\n",
        "    src = random.choice(['H','J','K'])\n",
        "    cfi = random.choice(['FCCPXX','APYBKL','MKLPON'])\n",
        "    pos2 = random.choice(['A','B','C','D'])\n",
        "    side = random.randint(1,3)\n",
        "    id4 = random.randint(1,3)\n",
        "    mlrty = random.randint(1,3)\n",
        "    alin = random.randint(0,2)\n",
        "    transtyp = random.randint(1,3)\n",
        "    return (\n",
        "        f\"\"\"<TrdCaptRpt RptID=\"{rptid}\" TrdID=\"{trdid}\" TransTyp=\"0\" RptTyp=\"2\" TrdTyp=\"2\" MtchID=\"{mtchid}\" PxTyp=\"2\" LastQty=\"{lastqty}\" LastPx=\"{lastpx}\" TrdDt=\"{trdt}\"\n",
        " BizDt=\"{trdt}\" TxnTm=\"{txntm}\"><Hdr SID=\"{sid}\" TID=\"{tid}\" PosDup=\"{pos1}\" PosRsnd=\"{pos1}\" Snt=\"{snt1}\"></Hdr>\n",
        "<Instrmt Sym=\"{sym}\" ID=\"{sym}\" Src=\"{src}\" CFI=\"{cfi}\" MMY=\"{mmy}\" MatDt=\"{matdt}\" Mult=\"{mult}\" Exch=\"{ex}\"></Instrmt><RptSide Side=\"{side}\" Ccy=\"USD\" InptSrc=\"{inptsrc}\"\n",
        " InptDev=\"PORTAL\" CustCpcty=\"1\" PosEfct=\"{pos2}\" ClOrdID=\"{clordid}\" MLegRptTyp=\"{mlrty}\" AllocInd=\"{alin}\"><Pty ID=\"{sid}\" R=\"{r1}\"></Pty><Pty ID=\"{id}\" R=\"{r2}\"></Pty><Pty ID=\"{id}\" R=\"{r3}\"></Pty>\n",
        "<Pty ID=\"{id2}\" R=\"{r4}\"><Sub ID=\"{id4}\" Typ=\"{typ}\"></Sub></Pty><Pty ID=\"{id}\" R=\"{r5}\"></Pty><TrdRegTS TS=\"{txntm}\" Typ=\"{typ2}\">\n",
        "</TrdRegTS></RptSide></TrdCaptRpt>\"\"\".replace('\\n', ''),\n",
        "        f\"\"\"<TrdCaptRpt RptID=\"{trdid}\" TrdDt=\"{trdt}\" BizDt=\"{trdt}\" TxnTm=\"{txntm}\" TrdID=\"{trdid}\" TransTyp=\"{transtyp}\" RptTyp=\"0\" LastQty=\"{float(lastqty)}\"\n",
        " LastPx=\"{float(lastpx)}\"><Hdr Snt=\"{snt2}\" TID=\"{sid}\" SID=\"{tid}\"/><Instrmt Exch=\"{ex}\" ID=\"{sym}\" MMY=\"{mmy}\" CFI=\"FXXXXX\"/><RptSide Side=\"{side}\" CustCpcty=\"{custcpcty}\">\n",
        "<Pty ID=\"{id}\" R=\"{r2}\"/><Pty ID=\"{id3}\" R=\"{r4}\"><Sub ID=\"{id4}\" Typ=\"{typ}\"/></Pty></RptSide></TrdCaptRpt>\"\"\".replace('\\n', ''),\n",
        "\n",
        "        f\"\"\"<TrdCaptRpt RptID=\"{rptid}\" TrdID=\"{trdid}\" TransTyp=\"{transtyp}\" RptTyp=\"2\" TrdTyp=\"2\" MtchID=\"{mtchid}\" PxTyp=\"2\" LastQty=\"{lastqty}\" LastPx=\"{lastpx}\" TrdDt=\"{trdt}\"\n",
        " BizDt=\"{trdt}\" TxnTm=\"{snt4}\"><Hdr SID=\"{sid}\" TID=\"{tid}\" PosDup=\"{pos1}\" PosRsnd=\"{pos1}\" Snt=\"{snt3}\"></Hdr>\n",
        "<Instrmt Sym=\"{sym}\" ID=\"{sym}\" Src=\"{src}\" CFI=\"{cfi}\" MMY=\"{mmy}\" MatDt=\"{matdt}\" Mult=\"{mult}\" Exch=\"{ex}\"></Instrmt><RptSide Side=\"{side}\" Ccy=\"USD\" InptSrc=\"{inptsrc}\"\n",
        " InptDev=\"PORTAL\" CustCpcty=\"{custcpcty}\" PosEfct=\"{pos2}\" ClOrdID=\"{clordid}\" MLegRptTyp=\"{mlrty}\" AllocInd=\"{alin}\"><Pty ID=\"{sid}\" R=\"{r1}\"></Pty><Pty ID=\"{id}\" R=\"{r2}\"></Pty><Pty ID=\"{id}\" R=\"{r3}\"></Pty>\n",
        "<Pty ID=\"{id3}\" R=\"{r4}\"><Sub ID=\"{id4}\" Typ=\"{typ}\"></Sub></Pty><Pty ID=\"{id}\" R=\"{r5}\"></Pty><TrdRegTS TS=\"{txntm}\" Typ=\"{typ2}\"></TrdRegTS></RptSide>\n",
        "</TrdCaptRpt>\"\"\".replace('\\n', '')\n",
        "    )"
      ],
      "metadata": {
        "id": "wHdMEpT5Mk0C"
      },
      "execution_count": 102,
      "outputs": []
    },
    {
      "cell_type": "code",
      "source": [
        "dataset = [generate_example() for _ in range(1000)]"
      ],
      "metadata": {
        "id": "EVWfFsu4NwGu"
      },
      "execution_count": 103,
      "outputs": []
    },
    {
      "cell_type": "code",
      "source": [
        "dataset[0][0]"
      ],
      "metadata": {
        "colab": {
          "base_uri": "https://localhost:8080/",
          "height": 105
        },
        "id": "J2RllFY5NynJ",
        "outputId": "e6dd8c56-d0ab-4cfa-dffd-7910f022646a"
      },
      "execution_count": 104,
      "outputs": [
        {
          "output_type": "execute_result",
          "data": {
            "text/plain": [
              "'<TrdCaptRpt RptID=\"2310\" TrdID=\"27502691318\" TransTyp=\"0\" RptTyp=\"2\" TrdTyp=\"2\" MtchID=\"33813517270\" PxTyp=\"2\" LastQty=\"11\" LastPx=\"190\" TrdDt=\"2023-06-05\" BizDt=\"2023-06-05\" TxnTm=\"2023-11-12T05:16:59.749-05:00\"><Hdr SID=\"MGEX\" TID=\"D296\" PosDup=\"M\" PosRsnd=\"M\" Snt=\"2023-11-12T05:16:59.788-05:00\"></Hdr><Instrmt Sym=\"ABP\" ID=\"ABP\" Src=\"K\" CFI=\"FCCPXX\" MMY=\"202402\" MatDt=\"2024-02-8\" Mult=\"0.3\" Exch=\"BTNL\"></Instrmt><RptSide Side=\"3\" Ccy=\"USD\" InptSrc=\"MA\" InptDev=\"PORTAL\" CustCpcty=\"1\" PosEfct=\"C\" ClOrdID=\"134\" MLegRptTyp=\"1\" AllocInd=\"0\"><Pty ID=\"MGEX\" R=\"21\"></Pty><Pty ID=\"296\" R=\"1\"></Pty><Pty ID=\"296\" R=\"6\"></Pty><Pty ID=\"Ahlem-110\" R=\"29\"><Sub ID=\"1\" Typ=\"22\"></Sub></Pty><Pty ID=\"296\" R=\"12\"></Pty><TrdRegTS TS=\"2023-11-12T05:16:59.749-05:00\" Typ=\"3\"></TrdRegTS></RptSide></TrdCaptRpt>'"
            ],
            "application/vnd.google.colaboratory.intrinsic+json": {
              "type": "string"
            }
          },
          "metadata": {},
          "execution_count": 104
        }
      ]
    },
    {
      "cell_type": "code",
      "source": [
        "dataset[0][1]"
      ],
      "metadata": {
        "colab": {
          "base_uri": "https://localhost:8080/",
          "height": 70
        },
        "id": "L07TOfI4N0nM",
        "outputId": "05f1c01d-8804-4080-e376-0eb2b8e521e3"
      },
      "execution_count": 105,
      "outputs": [
        {
          "output_type": "execute_result",
          "data": {
            "text/plain": [
              "'<TrdCaptRpt RptID=\"27502691318\" TrdDt=\"2023-06-05\" BizDt=\"2023-06-05\" TxnTm=\"2023-11-12T05:16:59.749-05:00\" TrdID=\"27502691318\" TransTyp=\"2\" RptTyp=\"0\" LastQty=\"11.0\" LastPx=\"190.0\"><Hdr Snt=\"2023-11-12T11:17:55.348+01:00\" TID=\"MGEX\" SID=\"D296\"/><Instrmt Exch=\"BTNL\" ID=\"ABP\" MMY=\"202402\" CFI=\"FXXXXX\"/><RptSide Side=\"3\" CustCpcty=\"5\"><Pty ID=\"296\" R=\"1\"/><Pty ID=\"AKLPM9\" R=\"29\"><Sub ID=\"1\" Typ=\"22\"/></Pty></RptSide></TrdCaptRpt>'"
            ],
            "application/vnd.google.colaboratory.intrinsic+json": {
              "type": "string"
            }
          },
          "metadata": {},
          "execution_count": 105
        }
      ]
    },
    {
      "cell_type": "code",
      "source": [
        "dataset[0][2]"
      ],
      "metadata": {
        "colab": {
          "base_uri": "https://localhost:8080/",
          "height": 105
        },
        "id": "OmFm1xFPN298",
        "outputId": "20037db0-038e-4003-d85e-2434d57f08a2"
      },
      "execution_count": 106,
      "outputs": [
        {
          "output_type": "execute_result",
          "data": {
            "text/plain": [
              "'<TrdCaptRpt RptID=\"2310\" TrdID=\"27502691318\" TransTyp=\"2\" RptTyp=\"2\" TrdTyp=\"2\" MtchID=\"33813517270\" PxTyp=\"2\" LastQty=\"11\" LastPx=\"190\" TrdDt=\"2023-06-05\" BizDt=\"2023-06-05\" TxnTm=\"2023-11-12T05:17:55.138-05:00\"><Hdr SID=\"MGEX\" TID=\"D296\" PosDup=\"M\" PosRsnd=\"M\" Snt=\"2023-11-12T05:17:55.160-05:00\"></Hdr><Instrmt Sym=\"ABP\" ID=\"ABP\" Src=\"K\" CFI=\"FCCPXX\" MMY=\"202402\" MatDt=\"2024-02-8\" Mult=\"0.3\" Exch=\"BTNL\"></Instrmt><RptSide Side=\"3\" Ccy=\"USD\" InptSrc=\"MA\" InptDev=\"PORTAL\" CustCpcty=\"5\" PosEfct=\"C\" ClOrdID=\"134\" MLegRptTyp=\"1\" AllocInd=\"0\"><Pty ID=\"MGEX\" R=\"21\"></Pty><Pty ID=\"296\" R=\"1\"></Pty><Pty ID=\"296\" R=\"6\"></Pty><Pty ID=\"AKLPM9\" R=\"29\"><Sub ID=\"1\" Typ=\"22\"></Sub></Pty><Pty ID=\"296\" R=\"12\"></Pty><TrdRegTS TS=\"2023-11-12T05:16:59.749-05:00\" Typ=\"3\"></TrdRegTS></RptSide></TrdCaptRpt>'"
            ],
            "application/vnd.google.colaboratory.intrinsic+json": {
              "type": "string"
            }
          },
          "metadata": {},
          "execution_count": 106
        }
      ]
    },
    {
      "cell_type": "code",
      "source": [
        "column1_data = [example[0] for example in dataset]\n",
        "column2_data = [example[1] for example in dataset]\n",
        "column3_data = [example[2] for example in dataset]\n",
        "\n",
        "df = pd.DataFrame({\n",
        "    'Trade_message': column1_data,\n",
        "    'SGW_Operation': column2_data,\n",
        "    'CCP_Message': column3_data\n",
        "})\n",
        "\n",
        "df.head()"
      ],
      "metadata": {
        "colab": {
          "base_uri": "https://localhost:8080/",
          "height": 206
        },
        "id": "g735m0mrN71U",
        "outputId": "7eb9992f-6be4-400b-f091-428b34ee6fc1"
      },
      "execution_count": 107,
      "outputs": [
        {
          "output_type": "execute_result",
          "data": {
            "text/plain": [
              "                                       Trade_message  \\\n",
              "0  <TrdCaptRpt RptID=\"2310\" TrdID=\"27502691318\" T...   \n",
              "1  <TrdCaptRpt RptID=\"2825\" TrdID=\"33169904980\" T...   \n",
              "2  <TrdCaptRpt RptID=\"2888\" TrdID=\"39132139620\" T...   \n",
              "3  <TrdCaptRpt RptID=\"2096\" TrdID=\"27116757988\" T...   \n",
              "4  <TrdCaptRpt RptID=\"2985\" TrdID=\"24295892197\" T...   \n",
              "\n",
              "                                       SGW_Operation  \\\n",
              "0  <TrdCaptRpt RptID=\"27502691318\" TrdDt=\"2023-06...   \n",
              "1  <TrdCaptRpt RptID=\"33169904980\" TrdDt=\"2023-06...   \n",
              "2  <TrdCaptRpt RptID=\"39132139620\" TrdDt=\"2023-04...   \n",
              "3  <TrdCaptRpt RptID=\"27116757988\" TrdDt=\"2022-12...   \n",
              "4  <TrdCaptRpt RptID=\"24295892197\" TrdDt=\"2023-04...   \n",
              "\n",
              "                                         CCP_Message  \n",
              "0  <TrdCaptRpt RptID=\"2310\" TrdID=\"27502691318\" T...  \n",
              "1  <TrdCaptRpt RptID=\"2825\" TrdID=\"33169904980\" T...  \n",
              "2  <TrdCaptRpt RptID=\"2888\" TrdID=\"39132139620\" T...  \n",
              "3  <TrdCaptRpt RptID=\"2096\" TrdID=\"27116757988\" T...  \n",
              "4  <TrdCaptRpt RptID=\"2985\" TrdID=\"24295892197\" T...  "
            ],
            "text/html": [
              "\n",
              "  <div id=\"df-060c639d-6fd2-480e-8665-dc938274201f\" class=\"colab-df-container\">\n",
              "    <div>\n",
              "<style scoped>\n",
              "    .dataframe tbody tr th:only-of-type {\n",
              "        vertical-align: middle;\n",
              "    }\n",
              "\n",
              "    .dataframe tbody tr th {\n",
              "        vertical-align: top;\n",
              "    }\n",
              "\n",
              "    .dataframe thead th {\n",
              "        text-align: right;\n",
              "    }\n",
              "</style>\n",
              "<table border=\"1\" class=\"dataframe\">\n",
              "  <thead>\n",
              "    <tr style=\"text-align: right;\">\n",
              "      <th></th>\n",
              "      <th>Trade_message</th>\n",
              "      <th>SGW_Operation</th>\n",
              "      <th>CCP_Message</th>\n",
              "    </tr>\n",
              "  </thead>\n",
              "  <tbody>\n",
              "    <tr>\n",
              "      <th>0</th>\n",
              "      <td>&lt;TrdCaptRpt RptID=\"2310\" TrdID=\"27502691318\" T...</td>\n",
              "      <td>&lt;TrdCaptRpt RptID=\"27502691318\" TrdDt=\"2023-06...</td>\n",
              "      <td>&lt;TrdCaptRpt RptID=\"2310\" TrdID=\"27502691318\" T...</td>\n",
              "    </tr>\n",
              "    <tr>\n",
              "      <th>1</th>\n",
              "      <td>&lt;TrdCaptRpt RptID=\"2825\" TrdID=\"33169904980\" T...</td>\n",
              "      <td>&lt;TrdCaptRpt RptID=\"33169904980\" TrdDt=\"2023-06...</td>\n",
              "      <td>&lt;TrdCaptRpt RptID=\"2825\" TrdID=\"33169904980\" T...</td>\n",
              "    </tr>\n",
              "    <tr>\n",
              "      <th>2</th>\n",
              "      <td>&lt;TrdCaptRpt RptID=\"2888\" TrdID=\"39132139620\" T...</td>\n",
              "      <td>&lt;TrdCaptRpt RptID=\"39132139620\" TrdDt=\"2023-04...</td>\n",
              "      <td>&lt;TrdCaptRpt RptID=\"2888\" TrdID=\"39132139620\" T...</td>\n",
              "    </tr>\n",
              "    <tr>\n",
              "      <th>3</th>\n",
              "      <td>&lt;TrdCaptRpt RptID=\"2096\" TrdID=\"27116757988\" T...</td>\n",
              "      <td>&lt;TrdCaptRpt RptID=\"27116757988\" TrdDt=\"2022-12...</td>\n",
              "      <td>&lt;TrdCaptRpt RptID=\"2096\" TrdID=\"27116757988\" T...</td>\n",
              "    </tr>\n",
              "    <tr>\n",
              "      <th>4</th>\n",
              "      <td>&lt;TrdCaptRpt RptID=\"2985\" TrdID=\"24295892197\" T...</td>\n",
              "      <td>&lt;TrdCaptRpt RptID=\"24295892197\" TrdDt=\"2023-04...</td>\n",
              "      <td>&lt;TrdCaptRpt RptID=\"2985\" TrdID=\"24295892197\" T...</td>\n",
              "    </tr>\n",
              "  </tbody>\n",
              "</table>\n",
              "</div>\n",
              "    <div class=\"colab-df-buttons\">\n",
              "\n",
              "  <div class=\"colab-df-container\">\n",
              "    <button class=\"colab-df-convert\" onclick=\"convertToInteractive('df-060c639d-6fd2-480e-8665-dc938274201f')\"\n",
              "            title=\"Convert this dataframe to an interactive table.\"\n",
              "            style=\"display:none;\">\n",
              "\n",
              "  <svg xmlns=\"http://www.w3.org/2000/svg\" height=\"24px\" viewBox=\"0 -960 960 960\">\n",
              "    <path d=\"M120-120v-720h720v720H120Zm60-500h600v-160H180v160Zm220 220h160v-160H400v160Zm0 220h160v-160H400v160ZM180-400h160v-160H180v160Zm440 0h160v-160H620v160ZM180-180h160v-160H180v160Zm440 0h160v-160H620v160Z\"/>\n",
              "  </svg>\n",
              "    </button>\n",
              "\n",
              "  <style>\n",
              "    .colab-df-container {\n",
              "      display:flex;\n",
              "      gap: 12px;\n",
              "    }\n",
              "\n",
              "    .colab-df-convert {\n",
              "      background-color: #E8F0FE;\n",
              "      border: none;\n",
              "      border-radius: 50%;\n",
              "      cursor: pointer;\n",
              "      display: none;\n",
              "      fill: #1967D2;\n",
              "      height: 32px;\n",
              "      padding: 0 0 0 0;\n",
              "      width: 32px;\n",
              "    }\n",
              "\n",
              "    .colab-df-convert:hover {\n",
              "      background-color: #E2EBFA;\n",
              "      box-shadow: 0px 1px 2px rgba(60, 64, 67, 0.3), 0px 1px 3px 1px rgba(60, 64, 67, 0.15);\n",
              "      fill: #174EA6;\n",
              "    }\n",
              "\n",
              "    .colab-df-buttons div {\n",
              "      margin-bottom: 4px;\n",
              "    }\n",
              "\n",
              "    [theme=dark] .colab-df-convert {\n",
              "      background-color: #3B4455;\n",
              "      fill: #D2E3FC;\n",
              "    }\n",
              "\n",
              "    [theme=dark] .colab-df-convert:hover {\n",
              "      background-color: #434B5C;\n",
              "      box-shadow: 0px 1px 3px 1px rgba(0, 0, 0, 0.15);\n",
              "      filter: drop-shadow(0px 1px 2px rgba(0, 0, 0, 0.3));\n",
              "      fill: #FFFFFF;\n",
              "    }\n",
              "  </style>\n",
              "\n",
              "    <script>\n",
              "      const buttonEl =\n",
              "        document.querySelector('#df-060c639d-6fd2-480e-8665-dc938274201f button.colab-df-convert');\n",
              "      buttonEl.style.display =\n",
              "        google.colab.kernel.accessAllowed ? 'block' : 'none';\n",
              "\n",
              "      async function convertToInteractive(key) {\n",
              "        const element = document.querySelector('#df-060c639d-6fd2-480e-8665-dc938274201f');\n",
              "        const dataTable =\n",
              "          await google.colab.kernel.invokeFunction('convertToInteractive',\n",
              "                                                    [key], {});\n",
              "        if (!dataTable) return;\n",
              "\n",
              "        const docLinkHtml = 'Like what you see? Visit the ' +\n",
              "          '<a target=\"_blank\" href=https://colab.research.google.com/notebooks/data_table.ipynb>data table notebook</a>'\n",
              "          + ' to learn more about interactive tables.';\n",
              "        element.innerHTML = '';\n",
              "        dataTable['output_type'] = 'display_data';\n",
              "        await google.colab.output.renderOutput(dataTable, element);\n",
              "        const docLink = document.createElement('div');\n",
              "        docLink.innerHTML = docLinkHtml;\n",
              "        element.appendChild(docLink);\n",
              "      }\n",
              "    </script>\n",
              "  </div>\n",
              "\n",
              "\n",
              "<div id=\"df-5d49ab9d-be6a-4ee6-a455-3e126aced239\">\n",
              "  <button class=\"colab-df-quickchart\" onclick=\"quickchart('df-5d49ab9d-be6a-4ee6-a455-3e126aced239')\"\n",
              "            title=\"Suggest charts\"\n",
              "            style=\"display:none;\">\n",
              "\n",
              "<svg xmlns=\"http://www.w3.org/2000/svg\" height=\"24px\"viewBox=\"0 0 24 24\"\n",
              "     width=\"24px\">\n",
              "    <g>\n",
              "        <path d=\"M19 3H5c-1.1 0-2 .9-2 2v14c0 1.1.9 2 2 2h14c1.1 0 2-.9 2-2V5c0-1.1-.9-2-2-2zM9 17H7v-7h2v7zm4 0h-2V7h2v10zm4 0h-2v-4h2v4z\"/>\n",
              "    </g>\n",
              "</svg>\n",
              "  </button>\n",
              "\n",
              "<style>\n",
              "  .colab-df-quickchart {\n",
              "      --bg-color: #E8F0FE;\n",
              "      --fill-color: #1967D2;\n",
              "      --hover-bg-color: #E2EBFA;\n",
              "      --hover-fill-color: #174EA6;\n",
              "      --disabled-fill-color: #AAA;\n",
              "      --disabled-bg-color: #DDD;\n",
              "  }\n",
              "\n",
              "  [theme=dark] .colab-df-quickchart {\n",
              "      --bg-color: #3B4455;\n",
              "      --fill-color: #D2E3FC;\n",
              "      --hover-bg-color: #434B5C;\n",
              "      --hover-fill-color: #FFFFFF;\n",
              "      --disabled-bg-color: #3B4455;\n",
              "      --disabled-fill-color: #666;\n",
              "  }\n",
              "\n",
              "  .colab-df-quickchart {\n",
              "    background-color: var(--bg-color);\n",
              "    border: none;\n",
              "    border-radius: 50%;\n",
              "    cursor: pointer;\n",
              "    display: none;\n",
              "    fill: var(--fill-color);\n",
              "    height: 32px;\n",
              "    padding: 0;\n",
              "    width: 32px;\n",
              "  }\n",
              "\n",
              "  .colab-df-quickchart:hover {\n",
              "    background-color: var(--hover-bg-color);\n",
              "    box-shadow: 0 1px 2px rgba(60, 64, 67, 0.3), 0 1px 3px 1px rgba(60, 64, 67, 0.15);\n",
              "    fill: var(--button-hover-fill-color);\n",
              "  }\n",
              "\n",
              "  .colab-df-quickchart-complete:disabled,\n",
              "  .colab-df-quickchart-complete:disabled:hover {\n",
              "    background-color: var(--disabled-bg-color);\n",
              "    fill: var(--disabled-fill-color);\n",
              "    box-shadow: none;\n",
              "  }\n",
              "\n",
              "  .colab-df-spinner {\n",
              "    border: 2px solid var(--fill-color);\n",
              "    border-color: transparent;\n",
              "    border-bottom-color: var(--fill-color);\n",
              "    animation:\n",
              "      spin 1s steps(1) infinite;\n",
              "  }\n",
              "\n",
              "  @keyframes spin {\n",
              "    0% {\n",
              "      border-color: transparent;\n",
              "      border-bottom-color: var(--fill-color);\n",
              "      border-left-color: var(--fill-color);\n",
              "    }\n",
              "    20% {\n",
              "      border-color: transparent;\n",
              "      border-left-color: var(--fill-color);\n",
              "      border-top-color: var(--fill-color);\n",
              "    }\n",
              "    30% {\n",
              "      border-color: transparent;\n",
              "      border-left-color: var(--fill-color);\n",
              "      border-top-color: var(--fill-color);\n",
              "      border-right-color: var(--fill-color);\n",
              "    }\n",
              "    40% {\n",
              "      border-color: transparent;\n",
              "      border-right-color: var(--fill-color);\n",
              "      border-top-color: var(--fill-color);\n",
              "    }\n",
              "    60% {\n",
              "      border-color: transparent;\n",
              "      border-right-color: var(--fill-color);\n",
              "    }\n",
              "    80% {\n",
              "      border-color: transparent;\n",
              "      border-right-color: var(--fill-color);\n",
              "      border-bottom-color: var(--fill-color);\n",
              "    }\n",
              "    90% {\n",
              "      border-color: transparent;\n",
              "      border-bottom-color: var(--fill-color);\n",
              "    }\n",
              "  }\n",
              "</style>\n",
              "\n",
              "  <script>\n",
              "    async function quickchart(key) {\n",
              "      const quickchartButtonEl =\n",
              "        document.querySelector('#' + key + ' button');\n",
              "      quickchartButtonEl.disabled = true;  // To prevent multiple clicks.\n",
              "      quickchartButtonEl.classList.add('colab-df-spinner');\n",
              "      try {\n",
              "        const charts = await google.colab.kernel.invokeFunction(\n",
              "            'suggestCharts', [key], {});\n",
              "      } catch (error) {\n",
              "        console.error('Error during call to suggestCharts:', error);\n",
              "      }\n",
              "      quickchartButtonEl.classList.remove('colab-df-spinner');\n",
              "      quickchartButtonEl.classList.add('colab-df-quickchart-complete');\n",
              "    }\n",
              "    (() => {\n",
              "      let quickchartButtonEl =\n",
              "        document.querySelector('#df-5d49ab9d-be6a-4ee6-a455-3e126aced239 button');\n",
              "      quickchartButtonEl.style.display =\n",
              "        google.colab.kernel.accessAllowed ? 'block' : 'none';\n",
              "    })();\n",
              "  </script>\n",
              "</div>\n",
              "\n",
              "    </div>\n",
              "  </div>\n"
            ],
            "application/vnd.google.colaboratory.intrinsic+json": {
              "type": "dataframe",
              "variable_name": "df",
              "summary": "{\n  \"name\": \"df\",\n  \"rows\": 1000,\n  \"fields\": [\n    {\n      \"column\": \"Trade_message\",\n      \"properties\": {\n        \"dtype\": \"string\",\n        \"num_unique_values\": 1000,\n        \"samples\": [\n          \"<TrdCaptRpt RptID=\\\"2248\\\" TrdID=\\\"25894873152\\\" TransTyp=\\\"0\\\" RptTyp=\\\"2\\\" TrdTyp=\\\"2\\\" MtchID=\\\"39136266640\\\" PxTyp=\\\"2\\\" LastQty=\\\"14\\\" LastPx=\\\"144\\\" TrdDt=\\\"2022-12-17\\\" BizDt=\\\"2022-12-17\\\" TxnTm=\\\"2023-09-30T05:17:18.749-05:00\\\"><Hdr SID=\\\"MGEX\\\" TID=\\\"D278\\\" PosDup=\\\"P\\\" PosRsnd=\\\"P\\\" Snt=\\\"2023-09-30T05:17:18.788-05:00\\\"></Hdr><Instrmt Sym=\\\"BUI\\\" ID=\\\"BUI\\\" Src=\\\"H\\\" CFI=\\\"FCCPXX\\\" MMY=\\\"202402\\\" MatDt=\\\"2024-02-1\\\" Mult=\\\"0.5\\\" Exch=\\\"BTNL\\\"></Instrmt><RptSide Side=\\\"1\\\" Ccy=\\\"USD\\\" InptSrc=\\\"BS\\\" InptDev=\\\"PORTAL\\\" CustCpcty=\\\"1\\\" PosEfct=\\\"D\\\" ClOrdID=\\\"145\\\" MLegRptTyp=\\\"1\\\" AllocInd=\\\"0\\\"><Pty ID=\\\"MGEX\\\" R=\\\"23\\\"></Pty><Pty ID=\\\"278\\\" R=\\\"2\\\"></Pty><Pty ID=\\\"278\\\" R=\\\"6\\\"></Pty><Pty ID=\\\"Mohamed-300\\\" R=\\\"29\\\"><Sub ID=\\\"1\\\" Typ=\\\"20\\\"></Sub></Pty><Pty ID=\\\"278\\\" R=\\\"16\\\"></Pty><TrdRegTS TS=\\\"2023-09-30T05:17:18.749-05:00\\\" Typ=\\\"3\\\"></TrdRegTS></RptSide></TrdCaptRpt>\",\n          \"<TrdCaptRpt RptID=\\\"2734\\\" TrdID=\\\"32045411290\\\" TransTyp=\\\"0\\\" RptTyp=\\\"2\\\" TrdTyp=\\\"2\\\" MtchID=\\\"35827226987\\\" PxTyp=\\\"2\\\" LastQty=\\\"20\\\" LastPx=\\\"199\\\" TrdDt=\\\"2023-06-05\\\" BizDt=\\\"2023-06-05\\\" TxnTm=\\\"2023-11-12T05:16:59.749-05:00\\\"><Hdr SID=\\\"PLDX\\\" TID=\\\"D242\\\" PosDup=\\\"N\\\" PosRsnd=\\\"N\\\" Snt=\\\"2023-11-12T05:16:59.788-05:00\\\"></Hdr><Instrmt Sym=\\\"BUI\\\" ID=\\\"BUI\\\" Src=\\\"K\\\" CFI=\\\"MKLPON\\\" MMY=\\\"202401\\\" MatDt=\\\"2024-01-20\\\" Mult=\\\"0.5\\\" Exch=\\\"SNTL\\\"></Instrmt><RptSide Side=\\\"2\\\" Ccy=\\\"USD\\\" InptSrc=\\\"BS\\\" InptDev=\\\"PORTAL\\\" CustCpcty=\\\"1\\\" PosEfct=\\\"C\\\" ClOrdID=\\\"134\\\" MLegRptTyp=\\\"2\\\" AllocInd=\\\"0\\\"><Pty ID=\\\"PLDX\\\" R=\\\"21\\\"></Pty><Pty ID=\\\"242\\\" R=\\\"2\\\"></Pty><Pty ID=\\\"242\\\" R=\\\"8\\\"></Pty><Pty ID=\\\"Karim-200\\\" R=\\\"26\\\"><Sub ID=\\\"2\\\" Typ=\\\"30\\\"></Sub></Pty><Pty ID=\\\"242\\\" R=\\\"14\\\"></Pty><TrdRegTS TS=\\\"2023-11-12T05:16:59.749-05:00\\\" Typ=\\\"4\\\"></TrdRegTS></RptSide></TrdCaptRpt>\",\n          \"<TrdCaptRpt RptID=\\\"2184\\\" TrdID=\\\"31247181641\\\" TransTyp=\\\"0\\\" RptTyp=\\\"2\\\" TrdTyp=\\\"2\\\" MtchID=\\\"30016019669\\\" PxTyp=\\\"2\\\" LastQty=\\\"13\\\" LastPx=\\\"107\\\" TrdDt=\\\"2023-04-20\\\" BizDt=\\\"2023-04-20\\\" TxnTm=\\\"2023-09-30T05:17:25.749-05:00\\\"><Hdr SID=\\\"MGEX\\\" TID=\\\"D208\\\" PosDup=\\\"M\\\" PosRsnd=\\\"M\\\" Snt=\\\"2023-09-30T05:17:25.788-05:00\\\"></Hdr><Instrmt Sym=\\\"BUI\\\" ID=\\\"BUI\\\" Src=\\\"J\\\" CFI=\\\"APYBKL\\\" MMY=\\\"202402\\\" MatDt=\\\"2024-02-13\\\" Mult=\\\"0.3\\\" Exch=\\\"HDPL\\\"></Instrmt><RptSide Side=\\\"3\\\" Ccy=\\\"USD\\\" InptSrc=\\\"MA\\\" InptDev=\\\"PORTAL\\\" CustCpcty=\\\"1\\\" PosEfct=\\\"C\\\" ClOrdID=\\\"145\\\" MLegRptTyp=\\\"2\\\" AllocInd=\\\"2\\\"><Pty ID=\\\"MGEX\\\" R=\\\"20\\\"></Pty><Pty ID=\\\"208\\\" R=\\\"3\\\"></Pty><Pty ID=\\\"208\\\" R=\\\"9\\\"></Pty><Pty ID=\\\"Ahlem-110\\\" R=\\\"29\\\"><Sub ID=\\\"3\\\" Typ=\\\"20\\\"></Sub></Pty><Pty ID=\\\"208\\\" R=\\\"12\\\"></Pty><TrdRegTS TS=\\\"2023-09-30T05:17:25.749-05:00\\\" Typ=\\\"3\\\"></TrdRegTS></RptSide></TrdCaptRpt>\"\n        ],\n        \"semantic_type\": \"\",\n        \"description\": \"\"\n      }\n    },\n    {\n      \"column\": \"SGW_Operation\",\n      \"properties\": {\n        \"dtype\": \"string\",\n        \"num_unique_values\": 1000,\n        \"samples\": [\n          \"<TrdCaptRpt RptID=\\\"25894873152\\\" TrdDt=\\\"2022-12-17\\\" BizDt=\\\"2022-12-17\\\" TxnTm=\\\"2023-09-30T05:17:18.749-05:00\\\" TrdID=\\\"25894873152\\\" TransTyp=\\\"2\\\" RptTyp=\\\"0\\\" LastQty=\\\"14.0\\\" LastPx=\\\"144.0\\\"><Hdr Snt=\\\"2023-09-30T11:18:30.348+01:00\\\" TID=\\\"MGEX\\\" SID=\\\"D278\\\"/><Instrmt Exch=\\\"BTNL\\\" ID=\\\"BUI\\\" MMY=\\\"202402\\\" CFI=\\\"FXXXXX\\\"/><RptSide Side=\\\"1\\\" CustCpcty=\\\"5\\\"><Pty ID=\\\"278\\\" R=\\\"2\\\"/><Pty ID=\\\"MPLAMP6\\\" R=\\\"29\\\"><Sub ID=\\\"1\\\" Typ=\\\"20\\\"/></Pty></RptSide></TrdCaptRpt>\",\n          \"<TrdCaptRpt RptID=\\\"32045411290\\\" TrdDt=\\\"2023-06-05\\\" BizDt=\\\"2023-06-05\\\" TxnTm=\\\"2023-11-12T05:16:59.749-05:00\\\" TrdID=\\\"32045411290\\\" TransTyp=\\\"2\\\" RptTyp=\\\"0\\\" LastQty=\\\"20.0\\\" LastPx=\\\"199.0\\\"><Hdr Snt=\\\"2023-11-12T11:18:30.348+01:00\\\" TID=\\\"PLDX\\\" SID=\\\"D242\\\"/><Instrmt Exch=\\\"SNTL\\\" ID=\\\"BUI\\\" MMY=\\\"202401\\\" CFI=\\\"FXXXXX\\\"/><RptSide Side=\\\"2\\\" CustCpcty=\\\"5\\\"><Pty ID=\\\"242\\\" R=\\\"2\\\"/><Pty ID=\\\"FIRMACT1\\\" R=\\\"26\\\"><Sub ID=\\\"2\\\" Typ=\\\"30\\\"/></Pty></RptSide></TrdCaptRpt>\",\n          \"<TrdCaptRpt RptID=\\\"31247181641\\\" TrdDt=\\\"2023-04-20\\\" BizDt=\\\"2023-04-20\\\" TxnTm=\\\"2023-09-30T05:17:25.749-05:00\\\" TrdID=\\\"31247181641\\\" TransTyp=\\\"2\\\" RptTyp=\\\"0\\\" LastQty=\\\"13.0\\\" LastPx=\\\"107.0\\\"><Hdr Snt=\\\"2023-09-30T11:17:40.348+01:00\\\" TID=\\\"MGEX\\\" SID=\\\"D208\\\"/><Instrmt Exch=\\\"HDPL\\\" ID=\\\"BUI\\\" MMY=\\\"202402\\\" CFI=\\\"FXXXXX\\\"/><RptSide Side=\\\"3\\\" CustCpcty=\\\"5\\\"><Pty ID=\\\"208\\\" R=\\\"3\\\"/><Pty ID=\\\"MPLAMP6\\\" R=\\\"29\\\"><Sub ID=\\\"3\\\" Typ=\\\"20\\\"/></Pty></RptSide></TrdCaptRpt>\"\n        ],\n        \"semantic_type\": \"\",\n        \"description\": \"\"\n      }\n    },\n    {\n      \"column\": \"CCP_Message\",\n      \"properties\": {\n        \"dtype\": \"string\",\n        \"num_unique_values\": 1000,\n        \"samples\": [\n          \"<TrdCaptRpt RptID=\\\"2248\\\" TrdID=\\\"25894873152\\\" TransTyp=\\\"2\\\" RptTyp=\\\"2\\\" TrdTyp=\\\"2\\\" MtchID=\\\"39136266640\\\" PxTyp=\\\"2\\\" LastQty=\\\"14\\\" LastPx=\\\"144\\\" TrdDt=\\\"2022-12-17\\\" BizDt=\\\"2022-12-17\\\" TxnTm=\\\"2023-09-30T05:18:30.138-05:00\\\"><Hdr SID=\\\"MGEX\\\" TID=\\\"D278\\\" PosDup=\\\"P\\\" PosRsnd=\\\"P\\\" Snt=\\\"2023-09-30T05:18:30.160-05:00\\\"></Hdr><Instrmt Sym=\\\"BUI\\\" ID=\\\"BUI\\\" Src=\\\"H\\\" CFI=\\\"FCCPXX\\\" MMY=\\\"202402\\\" MatDt=\\\"2024-02-1\\\" Mult=\\\"0.5\\\" Exch=\\\"BTNL\\\"></Instrmt><RptSide Side=\\\"1\\\" Ccy=\\\"USD\\\" InptSrc=\\\"BS\\\" InptDev=\\\"PORTAL\\\" CustCpcty=\\\"5\\\" PosEfct=\\\"D\\\" ClOrdID=\\\"145\\\" MLegRptTyp=\\\"1\\\" AllocInd=\\\"0\\\"><Pty ID=\\\"MGEX\\\" R=\\\"23\\\"></Pty><Pty ID=\\\"278\\\" R=\\\"2\\\"></Pty><Pty ID=\\\"278\\\" R=\\\"6\\\"></Pty><Pty ID=\\\"MPLAMP6\\\" R=\\\"29\\\"><Sub ID=\\\"1\\\" Typ=\\\"20\\\"></Sub></Pty><Pty ID=\\\"278\\\" R=\\\"16\\\"></Pty><TrdRegTS TS=\\\"2023-09-30T05:17:18.749-05:00\\\" Typ=\\\"3\\\"></TrdRegTS></RptSide></TrdCaptRpt>\",\n          \"<TrdCaptRpt RptID=\\\"2734\\\" TrdID=\\\"32045411290\\\" TransTyp=\\\"2\\\" RptTyp=\\\"2\\\" TrdTyp=\\\"2\\\" MtchID=\\\"35827226987\\\" PxTyp=\\\"2\\\" LastQty=\\\"20\\\" LastPx=\\\"199\\\" TrdDt=\\\"2023-06-05\\\" BizDt=\\\"2023-06-05\\\" TxnTm=\\\"2023-11-12T05:18:30.138-05:00\\\"><Hdr SID=\\\"PLDX\\\" TID=\\\"D242\\\" PosDup=\\\"N\\\" PosRsnd=\\\"N\\\" Snt=\\\"2023-11-12T05:18:30.160-05:00\\\"></Hdr><Instrmt Sym=\\\"BUI\\\" ID=\\\"BUI\\\" Src=\\\"K\\\" CFI=\\\"MKLPON\\\" MMY=\\\"202401\\\" MatDt=\\\"2024-01-20\\\" Mult=\\\"0.5\\\" Exch=\\\"SNTL\\\"></Instrmt><RptSide Side=\\\"2\\\" Ccy=\\\"USD\\\" InptSrc=\\\"BS\\\" InptDev=\\\"PORTAL\\\" CustCpcty=\\\"5\\\" PosEfct=\\\"C\\\" ClOrdID=\\\"134\\\" MLegRptTyp=\\\"2\\\" AllocInd=\\\"0\\\"><Pty ID=\\\"PLDX\\\" R=\\\"21\\\"></Pty><Pty ID=\\\"242\\\" R=\\\"2\\\"></Pty><Pty ID=\\\"242\\\" R=\\\"8\\\"></Pty><Pty ID=\\\"FIRMACT1\\\" R=\\\"26\\\"><Sub ID=\\\"2\\\" Typ=\\\"30\\\"></Sub></Pty><Pty ID=\\\"242\\\" R=\\\"14\\\"></Pty><TrdRegTS TS=\\\"2023-11-12T05:16:59.749-05:00\\\" Typ=\\\"4\\\"></TrdRegTS></RptSide></TrdCaptRpt>\",\n          \"<TrdCaptRpt RptID=\\\"2184\\\" TrdID=\\\"31247181641\\\" TransTyp=\\\"2\\\" RptTyp=\\\"2\\\" TrdTyp=\\\"2\\\" MtchID=\\\"30016019669\\\" PxTyp=\\\"2\\\" LastQty=\\\"13\\\" LastPx=\\\"107\\\" TrdDt=\\\"2023-04-20\\\" BizDt=\\\"2023-04-20\\\" TxnTm=\\\"2023-09-30T05:17:40.138-05:00\\\"><Hdr SID=\\\"MGEX\\\" TID=\\\"D208\\\" PosDup=\\\"M\\\" PosRsnd=\\\"M\\\" Snt=\\\"2023-09-30T05:17:40.160-05:00\\\"></Hdr><Instrmt Sym=\\\"BUI\\\" ID=\\\"BUI\\\" Src=\\\"J\\\" CFI=\\\"APYBKL\\\" MMY=\\\"202402\\\" MatDt=\\\"2024-02-13\\\" Mult=\\\"0.3\\\" Exch=\\\"HDPL\\\"></Instrmt><RptSide Side=\\\"3\\\" Ccy=\\\"USD\\\" InptSrc=\\\"MA\\\" InptDev=\\\"PORTAL\\\" CustCpcty=\\\"5\\\" PosEfct=\\\"C\\\" ClOrdID=\\\"145\\\" MLegRptTyp=\\\"2\\\" AllocInd=\\\"2\\\"><Pty ID=\\\"MGEX\\\" R=\\\"20\\\"></Pty><Pty ID=\\\"208\\\" R=\\\"3\\\"></Pty><Pty ID=\\\"208\\\" R=\\\"9\\\"></Pty><Pty ID=\\\"MPLAMP6\\\" R=\\\"29\\\"><Sub ID=\\\"3\\\" Typ=\\\"20\\\"></Sub></Pty><Pty ID=\\\"208\\\" R=\\\"12\\\"></Pty><TrdRegTS TS=\\\"2023-09-30T05:17:25.749-05:00\\\" Typ=\\\"3\\\"></TrdRegTS></RptSide></TrdCaptRpt>\"\n        ],\n        \"semantic_type\": \"\",\n        \"description\": \"\"\n      }\n    }\n  ]\n}"
            }
          },
          "metadata": {},
          "execution_count": 107
        }
      ]
    },
    {
      "cell_type": "code",
      "source": [
        "df1 = df.copy()"
      ],
      "metadata": {
        "id": "EuXZC-AXOEnt"
      },
      "execution_count": 108,
      "outputs": []
    },
    {
      "cell_type": "code",
      "source": [
        "def concat_columns(df):\n",
        "    df['input_message'] = df['Trade_message'] + ' ' + df['SGW_Operation']\n",
        "    df.drop(['Trade_message', 'SGW_Operation'], axis=1, inplace=True)\n",
        "    return df\n",
        "df1 = concat_columns(df1)\n",
        "df1.head()"
      ],
      "metadata": {
        "colab": {
          "base_uri": "https://localhost:8080/",
          "height": 206
        },
        "id": "Bkn_WlNkOXZN",
        "outputId": "a6ae76e5-ac1a-4136-b37f-4cd30036b524"
      },
      "execution_count": 109,
      "outputs": [
        {
          "output_type": "execute_result",
          "data": {
            "text/plain": [
              "                                         CCP_Message  \\\n",
              "0  <TrdCaptRpt RptID=\"2310\" TrdID=\"27502691318\" T...   \n",
              "1  <TrdCaptRpt RptID=\"2825\" TrdID=\"33169904980\" T...   \n",
              "2  <TrdCaptRpt RptID=\"2888\" TrdID=\"39132139620\" T...   \n",
              "3  <TrdCaptRpt RptID=\"2096\" TrdID=\"27116757988\" T...   \n",
              "4  <TrdCaptRpt RptID=\"2985\" TrdID=\"24295892197\" T...   \n",
              "\n",
              "                                       input_message  \n",
              "0  <TrdCaptRpt RptID=\"2310\" TrdID=\"27502691318\" T...  \n",
              "1  <TrdCaptRpt RptID=\"2825\" TrdID=\"33169904980\" T...  \n",
              "2  <TrdCaptRpt RptID=\"2888\" TrdID=\"39132139620\" T...  \n",
              "3  <TrdCaptRpt RptID=\"2096\" TrdID=\"27116757988\" T...  \n",
              "4  <TrdCaptRpt RptID=\"2985\" TrdID=\"24295892197\" T...  "
            ],
            "text/html": [
              "\n",
              "  <div id=\"df-44fdaf77-a22b-4c53-80b8-47c67d1c5f9d\" class=\"colab-df-container\">\n",
              "    <div>\n",
              "<style scoped>\n",
              "    .dataframe tbody tr th:only-of-type {\n",
              "        vertical-align: middle;\n",
              "    }\n",
              "\n",
              "    .dataframe tbody tr th {\n",
              "        vertical-align: top;\n",
              "    }\n",
              "\n",
              "    .dataframe thead th {\n",
              "        text-align: right;\n",
              "    }\n",
              "</style>\n",
              "<table border=\"1\" class=\"dataframe\">\n",
              "  <thead>\n",
              "    <tr style=\"text-align: right;\">\n",
              "      <th></th>\n",
              "      <th>CCP_Message</th>\n",
              "      <th>input_message</th>\n",
              "    </tr>\n",
              "  </thead>\n",
              "  <tbody>\n",
              "    <tr>\n",
              "      <th>0</th>\n",
              "      <td>&lt;TrdCaptRpt RptID=\"2310\" TrdID=\"27502691318\" T...</td>\n",
              "      <td>&lt;TrdCaptRpt RptID=\"2310\" TrdID=\"27502691318\" T...</td>\n",
              "    </tr>\n",
              "    <tr>\n",
              "      <th>1</th>\n",
              "      <td>&lt;TrdCaptRpt RptID=\"2825\" TrdID=\"33169904980\" T...</td>\n",
              "      <td>&lt;TrdCaptRpt RptID=\"2825\" TrdID=\"33169904980\" T...</td>\n",
              "    </tr>\n",
              "    <tr>\n",
              "      <th>2</th>\n",
              "      <td>&lt;TrdCaptRpt RptID=\"2888\" TrdID=\"39132139620\" T...</td>\n",
              "      <td>&lt;TrdCaptRpt RptID=\"2888\" TrdID=\"39132139620\" T...</td>\n",
              "    </tr>\n",
              "    <tr>\n",
              "      <th>3</th>\n",
              "      <td>&lt;TrdCaptRpt RptID=\"2096\" TrdID=\"27116757988\" T...</td>\n",
              "      <td>&lt;TrdCaptRpt RptID=\"2096\" TrdID=\"27116757988\" T...</td>\n",
              "    </tr>\n",
              "    <tr>\n",
              "      <th>4</th>\n",
              "      <td>&lt;TrdCaptRpt RptID=\"2985\" TrdID=\"24295892197\" T...</td>\n",
              "      <td>&lt;TrdCaptRpt RptID=\"2985\" TrdID=\"24295892197\" T...</td>\n",
              "    </tr>\n",
              "  </tbody>\n",
              "</table>\n",
              "</div>\n",
              "    <div class=\"colab-df-buttons\">\n",
              "\n",
              "  <div class=\"colab-df-container\">\n",
              "    <button class=\"colab-df-convert\" onclick=\"convertToInteractive('df-44fdaf77-a22b-4c53-80b8-47c67d1c5f9d')\"\n",
              "            title=\"Convert this dataframe to an interactive table.\"\n",
              "            style=\"display:none;\">\n",
              "\n",
              "  <svg xmlns=\"http://www.w3.org/2000/svg\" height=\"24px\" viewBox=\"0 -960 960 960\">\n",
              "    <path d=\"M120-120v-720h720v720H120Zm60-500h600v-160H180v160Zm220 220h160v-160H400v160Zm0 220h160v-160H400v160ZM180-400h160v-160H180v160Zm440 0h160v-160H620v160ZM180-180h160v-160H180v160Zm440 0h160v-160H620v160Z\"/>\n",
              "  </svg>\n",
              "    </button>\n",
              "\n",
              "  <style>\n",
              "    .colab-df-container {\n",
              "      display:flex;\n",
              "      gap: 12px;\n",
              "    }\n",
              "\n",
              "    .colab-df-convert {\n",
              "      background-color: #E8F0FE;\n",
              "      border: none;\n",
              "      border-radius: 50%;\n",
              "      cursor: pointer;\n",
              "      display: none;\n",
              "      fill: #1967D2;\n",
              "      height: 32px;\n",
              "      padding: 0 0 0 0;\n",
              "      width: 32px;\n",
              "    }\n",
              "\n",
              "    .colab-df-convert:hover {\n",
              "      background-color: #E2EBFA;\n",
              "      box-shadow: 0px 1px 2px rgba(60, 64, 67, 0.3), 0px 1px 3px 1px rgba(60, 64, 67, 0.15);\n",
              "      fill: #174EA6;\n",
              "    }\n",
              "\n",
              "    .colab-df-buttons div {\n",
              "      margin-bottom: 4px;\n",
              "    }\n",
              "\n",
              "    [theme=dark] .colab-df-convert {\n",
              "      background-color: #3B4455;\n",
              "      fill: #D2E3FC;\n",
              "    }\n",
              "\n",
              "    [theme=dark] .colab-df-convert:hover {\n",
              "      background-color: #434B5C;\n",
              "      box-shadow: 0px 1px 3px 1px rgba(0, 0, 0, 0.15);\n",
              "      filter: drop-shadow(0px 1px 2px rgba(0, 0, 0, 0.3));\n",
              "      fill: #FFFFFF;\n",
              "    }\n",
              "  </style>\n",
              "\n",
              "    <script>\n",
              "      const buttonEl =\n",
              "        document.querySelector('#df-44fdaf77-a22b-4c53-80b8-47c67d1c5f9d button.colab-df-convert');\n",
              "      buttonEl.style.display =\n",
              "        google.colab.kernel.accessAllowed ? 'block' : 'none';\n",
              "\n",
              "      async function convertToInteractive(key) {\n",
              "        const element = document.querySelector('#df-44fdaf77-a22b-4c53-80b8-47c67d1c5f9d');\n",
              "        const dataTable =\n",
              "          await google.colab.kernel.invokeFunction('convertToInteractive',\n",
              "                                                    [key], {});\n",
              "        if (!dataTable) return;\n",
              "\n",
              "        const docLinkHtml = 'Like what you see? Visit the ' +\n",
              "          '<a target=\"_blank\" href=https://colab.research.google.com/notebooks/data_table.ipynb>data table notebook</a>'\n",
              "          + ' to learn more about interactive tables.';\n",
              "        element.innerHTML = '';\n",
              "        dataTable['output_type'] = 'display_data';\n",
              "        await google.colab.output.renderOutput(dataTable, element);\n",
              "        const docLink = document.createElement('div');\n",
              "        docLink.innerHTML = docLinkHtml;\n",
              "        element.appendChild(docLink);\n",
              "      }\n",
              "    </script>\n",
              "  </div>\n",
              "\n",
              "\n",
              "<div id=\"df-4acee12b-a34e-4659-aa6a-bda4a644769e\">\n",
              "  <button class=\"colab-df-quickchart\" onclick=\"quickchart('df-4acee12b-a34e-4659-aa6a-bda4a644769e')\"\n",
              "            title=\"Suggest charts\"\n",
              "            style=\"display:none;\">\n",
              "\n",
              "<svg xmlns=\"http://www.w3.org/2000/svg\" height=\"24px\"viewBox=\"0 0 24 24\"\n",
              "     width=\"24px\">\n",
              "    <g>\n",
              "        <path d=\"M19 3H5c-1.1 0-2 .9-2 2v14c0 1.1.9 2 2 2h14c1.1 0 2-.9 2-2V5c0-1.1-.9-2-2-2zM9 17H7v-7h2v7zm4 0h-2V7h2v10zm4 0h-2v-4h2v4z\"/>\n",
              "    </g>\n",
              "</svg>\n",
              "  </button>\n",
              "\n",
              "<style>\n",
              "  .colab-df-quickchart {\n",
              "      --bg-color: #E8F0FE;\n",
              "      --fill-color: #1967D2;\n",
              "      --hover-bg-color: #E2EBFA;\n",
              "      --hover-fill-color: #174EA6;\n",
              "      --disabled-fill-color: #AAA;\n",
              "      --disabled-bg-color: #DDD;\n",
              "  }\n",
              "\n",
              "  [theme=dark] .colab-df-quickchart {\n",
              "      --bg-color: #3B4455;\n",
              "      --fill-color: #D2E3FC;\n",
              "      --hover-bg-color: #434B5C;\n",
              "      --hover-fill-color: #FFFFFF;\n",
              "      --disabled-bg-color: #3B4455;\n",
              "      --disabled-fill-color: #666;\n",
              "  }\n",
              "\n",
              "  .colab-df-quickchart {\n",
              "    background-color: var(--bg-color);\n",
              "    border: none;\n",
              "    border-radius: 50%;\n",
              "    cursor: pointer;\n",
              "    display: none;\n",
              "    fill: var(--fill-color);\n",
              "    height: 32px;\n",
              "    padding: 0;\n",
              "    width: 32px;\n",
              "  }\n",
              "\n",
              "  .colab-df-quickchart:hover {\n",
              "    background-color: var(--hover-bg-color);\n",
              "    box-shadow: 0 1px 2px rgba(60, 64, 67, 0.3), 0 1px 3px 1px rgba(60, 64, 67, 0.15);\n",
              "    fill: var(--button-hover-fill-color);\n",
              "  }\n",
              "\n",
              "  .colab-df-quickchart-complete:disabled,\n",
              "  .colab-df-quickchart-complete:disabled:hover {\n",
              "    background-color: var(--disabled-bg-color);\n",
              "    fill: var(--disabled-fill-color);\n",
              "    box-shadow: none;\n",
              "  }\n",
              "\n",
              "  .colab-df-spinner {\n",
              "    border: 2px solid var(--fill-color);\n",
              "    border-color: transparent;\n",
              "    border-bottom-color: var(--fill-color);\n",
              "    animation:\n",
              "      spin 1s steps(1) infinite;\n",
              "  }\n",
              "\n",
              "  @keyframes spin {\n",
              "    0% {\n",
              "      border-color: transparent;\n",
              "      border-bottom-color: var(--fill-color);\n",
              "      border-left-color: var(--fill-color);\n",
              "    }\n",
              "    20% {\n",
              "      border-color: transparent;\n",
              "      border-left-color: var(--fill-color);\n",
              "      border-top-color: var(--fill-color);\n",
              "    }\n",
              "    30% {\n",
              "      border-color: transparent;\n",
              "      border-left-color: var(--fill-color);\n",
              "      border-top-color: var(--fill-color);\n",
              "      border-right-color: var(--fill-color);\n",
              "    }\n",
              "    40% {\n",
              "      border-color: transparent;\n",
              "      border-right-color: var(--fill-color);\n",
              "      border-top-color: var(--fill-color);\n",
              "    }\n",
              "    60% {\n",
              "      border-color: transparent;\n",
              "      border-right-color: var(--fill-color);\n",
              "    }\n",
              "    80% {\n",
              "      border-color: transparent;\n",
              "      border-right-color: var(--fill-color);\n",
              "      border-bottom-color: var(--fill-color);\n",
              "    }\n",
              "    90% {\n",
              "      border-color: transparent;\n",
              "      border-bottom-color: var(--fill-color);\n",
              "    }\n",
              "  }\n",
              "</style>\n",
              "\n",
              "  <script>\n",
              "    async function quickchart(key) {\n",
              "      const quickchartButtonEl =\n",
              "        document.querySelector('#' + key + ' button');\n",
              "      quickchartButtonEl.disabled = true;  // To prevent multiple clicks.\n",
              "      quickchartButtonEl.classList.add('colab-df-spinner');\n",
              "      try {\n",
              "        const charts = await google.colab.kernel.invokeFunction(\n",
              "            'suggestCharts', [key], {});\n",
              "      } catch (error) {\n",
              "        console.error('Error during call to suggestCharts:', error);\n",
              "      }\n",
              "      quickchartButtonEl.classList.remove('colab-df-spinner');\n",
              "      quickchartButtonEl.classList.add('colab-df-quickchart-complete');\n",
              "    }\n",
              "    (() => {\n",
              "      let quickchartButtonEl =\n",
              "        document.querySelector('#df-4acee12b-a34e-4659-aa6a-bda4a644769e button');\n",
              "      quickchartButtonEl.style.display =\n",
              "        google.colab.kernel.accessAllowed ? 'block' : 'none';\n",
              "    })();\n",
              "  </script>\n",
              "</div>\n",
              "\n",
              "    </div>\n",
              "  </div>\n"
            ],
            "application/vnd.google.colaboratory.intrinsic+json": {
              "type": "dataframe",
              "variable_name": "df1",
              "summary": "{\n  \"name\": \"df1\",\n  \"rows\": 1000,\n  \"fields\": [\n    {\n      \"column\": \"CCP_Message\",\n      \"properties\": {\n        \"dtype\": \"string\",\n        \"num_unique_values\": 1000,\n        \"samples\": [\n          \"<TrdCaptRpt RptID=\\\"2248\\\" TrdID=\\\"25894873152\\\" TransTyp=\\\"2\\\" RptTyp=\\\"2\\\" TrdTyp=\\\"2\\\" MtchID=\\\"39136266640\\\" PxTyp=\\\"2\\\" LastQty=\\\"14\\\" LastPx=\\\"144\\\" TrdDt=\\\"2022-12-17\\\" BizDt=\\\"2022-12-17\\\" TxnTm=\\\"2023-09-30T05:18:30.138-05:00\\\"><Hdr SID=\\\"MGEX\\\" TID=\\\"D278\\\" PosDup=\\\"P\\\" PosRsnd=\\\"P\\\" Snt=\\\"2023-09-30T05:18:30.160-05:00\\\"></Hdr><Instrmt Sym=\\\"BUI\\\" ID=\\\"BUI\\\" Src=\\\"H\\\" CFI=\\\"FCCPXX\\\" MMY=\\\"202402\\\" MatDt=\\\"2024-02-1\\\" Mult=\\\"0.5\\\" Exch=\\\"BTNL\\\"></Instrmt><RptSide Side=\\\"1\\\" Ccy=\\\"USD\\\" InptSrc=\\\"BS\\\" InptDev=\\\"PORTAL\\\" CustCpcty=\\\"5\\\" PosEfct=\\\"D\\\" ClOrdID=\\\"145\\\" MLegRptTyp=\\\"1\\\" AllocInd=\\\"0\\\"><Pty ID=\\\"MGEX\\\" R=\\\"23\\\"></Pty><Pty ID=\\\"278\\\" R=\\\"2\\\"></Pty><Pty ID=\\\"278\\\" R=\\\"6\\\"></Pty><Pty ID=\\\"MPLAMP6\\\" R=\\\"29\\\"><Sub ID=\\\"1\\\" Typ=\\\"20\\\"></Sub></Pty><Pty ID=\\\"278\\\" R=\\\"16\\\"></Pty><TrdRegTS TS=\\\"2023-09-30T05:17:18.749-05:00\\\" Typ=\\\"3\\\"></TrdRegTS></RptSide></TrdCaptRpt>\",\n          \"<TrdCaptRpt RptID=\\\"2734\\\" TrdID=\\\"32045411290\\\" TransTyp=\\\"2\\\" RptTyp=\\\"2\\\" TrdTyp=\\\"2\\\" MtchID=\\\"35827226987\\\" PxTyp=\\\"2\\\" LastQty=\\\"20\\\" LastPx=\\\"199\\\" TrdDt=\\\"2023-06-05\\\" BizDt=\\\"2023-06-05\\\" TxnTm=\\\"2023-11-12T05:18:30.138-05:00\\\"><Hdr SID=\\\"PLDX\\\" TID=\\\"D242\\\" PosDup=\\\"N\\\" PosRsnd=\\\"N\\\" Snt=\\\"2023-11-12T05:18:30.160-05:00\\\"></Hdr><Instrmt Sym=\\\"BUI\\\" ID=\\\"BUI\\\" Src=\\\"K\\\" CFI=\\\"MKLPON\\\" MMY=\\\"202401\\\" MatDt=\\\"2024-01-20\\\" Mult=\\\"0.5\\\" Exch=\\\"SNTL\\\"></Instrmt><RptSide Side=\\\"2\\\" Ccy=\\\"USD\\\" InptSrc=\\\"BS\\\" InptDev=\\\"PORTAL\\\" CustCpcty=\\\"5\\\" PosEfct=\\\"C\\\" ClOrdID=\\\"134\\\" MLegRptTyp=\\\"2\\\" AllocInd=\\\"0\\\"><Pty ID=\\\"PLDX\\\" R=\\\"21\\\"></Pty><Pty ID=\\\"242\\\" R=\\\"2\\\"></Pty><Pty ID=\\\"242\\\" R=\\\"8\\\"></Pty><Pty ID=\\\"FIRMACT1\\\" R=\\\"26\\\"><Sub ID=\\\"2\\\" Typ=\\\"30\\\"></Sub></Pty><Pty ID=\\\"242\\\" R=\\\"14\\\"></Pty><TrdRegTS TS=\\\"2023-11-12T05:16:59.749-05:00\\\" Typ=\\\"4\\\"></TrdRegTS></RptSide></TrdCaptRpt>\",\n          \"<TrdCaptRpt RptID=\\\"2184\\\" TrdID=\\\"31247181641\\\" TransTyp=\\\"2\\\" RptTyp=\\\"2\\\" TrdTyp=\\\"2\\\" MtchID=\\\"30016019669\\\" PxTyp=\\\"2\\\" LastQty=\\\"13\\\" LastPx=\\\"107\\\" TrdDt=\\\"2023-04-20\\\" BizDt=\\\"2023-04-20\\\" TxnTm=\\\"2023-09-30T05:17:40.138-05:00\\\"><Hdr SID=\\\"MGEX\\\" TID=\\\"D208\\\" PosDup=\\\"M\\\" PosRsnd=\\\"M\\\" Snt=\\\"2023-09-30T05:17:40.160-05:00\\\"></Hdr><Instrmt Sym=\\\"BUI\\\" ID=\\\"BUI\\\" Src=\\\"J\\\" CFI=\\\"APYBKL\\\" MMY=\\\"202402\\\" MatDt=\\\"2024-02-13\\\" Mult=\\\"0.3\\\" Exch=\\\"HDPL\\\"></Instrmt><RptSide Side=\\\"3\\\" Ccy=\\\"USD\\\" InptSrc=\\\"MA\\\" InptDev=\\\"PORTAL\\\" CustCpcty=\\\"5\\\" PosEfct=\\\"C\\\" ClOrdID=\\\"145\\\" MLegRptTyp=\\\"2\\\" AllocInd=\\\"2\\\"><Pty ID=\\\"MGEX\\\" R=\\\"20\\\"></Pty><Pty ID=\\\"208\\\" R=\\\"3\\\"></Pty><Pty ID=\\\"208\\\" R=\\\"9\\\"></Pty><Pty ID=\\\"MPLAMP6\\\" R=\\\"29\\\"><Sub ID=\\\"3\\\" Typ=\\\"20\\\"></Sub></Pty><Pty ID=\\\"208\\\" R=\\\"12\\\"></Pty><TrdRegTS TS=\\\"2023-09-30T05:17:25.749-05:00\\\" Typ=\\\"3\\\"></TrdRegTS></RptSide></TrdCaptRpt>\"\n        ],\n        \"semantic_type\": \"\",\n        \"description\": \"\"\n      }\n    },\n    {\n      \"column\": \"input_message\",\n      \"properties\": {\n        \"dtype\": \"string\",\n        \"num_unique_values\": 1000,\n        \"samples\": [\n          \"<TrdCaptRpt RptID=\\\"2248\\\" TrdID=\\\"25894873152\\\" TransTyp=\\\"0\\\" RptTyp=\\\"2\\\" TrdTyp=\\\"2\\\" MtchID=\\\"39136266640\\\" PxTyp=\\\"2\\\" LastQty=\\\"14\\\" LastPx=\\\"144\\\" TrdDt=\\\"2022-12-17\\\" BizDt=\\\"2022-12-17\\\" TxnTm=\\\"2023-09-30T05:17:18.749-05:00\\\"><Hdr SID=\\\"MGEX\\\" TID=\\\"D278\\\" PosDup=\\\"P\\\" PosRsnd=\\\"P\\\" Snt=\\\"2023-09-30T05:17:18.788-05:00\\\"></Hdr><Instrmt Sym=\\\"BUI\\\" ID=\\\"BUI\\\" Src=\\\"H\\\" CFI=\\\"FCCPXX\\\" MMY=\\\"202402\\\" MatDt=\\\"2024-02-1\\\" Mult=\\\"0.5\\\" Exch=\\\"BTNL\\\"></Instrmt><RptSide Side=\\\"1\\\" Ccy=\\\"USD\\\" InptSrc=\\\"BS\\\" InptDev=\\\"PORTAL\\\" CustCpcty=\\\"1\\\" PosEfct=\\\"D\\\" ClOrdID=\\\"145\\\" MLegRptTyp=\\\"1\\\" AllocInd=\\\"0\\\"><Pty ID=\\\"MGEX\\\" R=\\\"23\\\"></Pty><Pty ID=\\\"278\\\" R=\\\"2\\\"></Pty><Pty ID=\\\"278\\\" R=\\\"6\\\"></Pty><Pty ID=\\\"Mohamed-300\\\" R=\\\"29\\\"><Sub ID=\\\"1\\\" Typ=\\\"20\\\"></Sub></Pty><Pty ID=\\\"278\\\" R=\\\"16\\\"></Pty><TrdRegTS TS=\\\"2023-09-30T05:17:18.749-05:00\\\" Typ=\\\"3\\\"></TrdRegTS></RptSide></TrdCaptRpt> <TrdCaptRpt RptID=\\\"25894873152\\\" TrdDt=\\\"2022-12-17\\\" BizDt=\\\"2022-12-17\\\" TxnTm=\\\"2023-09-30T05:17:18.749-05:00\\\" TrdID=\\\"25894873152\\\" TransTyp=\\\"2\\\" RptTyp=\\\"0\\\" LastQty=\\\"14.0\\\" LastPx=\\\"144.0\\\"><Hdr Snt=\\\"2023-09-30T11:18:30.348+01:00\\\" TID=\\\"MGEX\\\" SID=\\\"D278\\\"/><Instrmt Exch=\\\"BTNL\\\" ID=\\\"BUI\\\" MMY=\\\"202402\\\" CFI=\\\"FXXXXX\\\"/><RptSide Side=\\\"1\\\" CustCpcty=\\\"5\\\"><Pty ID=\\\"278\\\" R=\\\"2\\\"/><Pty ID=\\\"MPLAMP6\\\" R=\\\"29\\\"><Sub ID=\\\"1\\\" Typ=\\\"20\\\"/></Pty></RptSide></TrdCaptRpt>\",\n          \"<TrdCaptRpt RptID=\\\"2734\\\" TrdID=\\\"32045411290\\\" TransTyp=\\\"0\\\" RptTyp=\\\"2\\\" TrdTyp=\\\"2\\\" MtchID=\\\"35827226987\\\" PxTyp=\\\"2\\\" LastQty=\\\"20\\\" LastPx=\\\"199\\\" TrdDt=\\\"2023-06-05\\\" BizDt=\\\"2023-06-05\\\" TxnTm=\\\"2023-11-12T05:16:59.749-05:00\\\"><Hdr SID=\\\"PLDX\\\" TID=\\\"D242\\\" PosDup=\\\"N\\\" PosRsnd=\\\"N\\\" Snt=\\\"2023-11-12T05:16:59.788-05:00\\\"></Hdr><Instrmt Sym=\\\"BUI\\\" ID=\\\"BUI\\\" Src=\\\"K\\\" CFI=\\\"MKLPON\\\" MMY=\\\"202401\\\" MatDt=\\\"2024-01-20\\\" Mult=\\\"0.5\\\" Exch=\\\"SNTL\\\"></Instrmt><RptSide Side=\\\"2\\\" Ccy=\\\"USD\\\" InptSrc=\\\"BS\\\" InptDev=\\\"PORTAL\\\" CustCpcty=\\\"1\\\" PosEfct=\\\"C\\\" ClOrdID=\\\"134\\\" MLegRptTyp=\\\"2\\\" AllocInd=\\\"0\\\"><Pty ID=\\\"PLDX\\\" R=\\\"21\\\"></Pty><Pty ID=\\\"242\\\" R=\\\"2\\\"></Pty><Pty ID=\\\"242\\\" R=\\\"8\\\"></Pty><Pty ID=\\\"Karim-200\\\" R=\\\"26\\\"><Sub ID=\\\"2\\\" Typ=\\\"30\\\"></Sub></Pty><Pty ID=\\\"242\\\" R=\\\"14\\\"></Pty><TrdRegTS TS=\\\"2023-11-12T05:16:59.749-05:00\\\" Typ=\\\"4\\\"></TrdRegTS></RptSide></TrdCaptRpt> <TrdCaptRpt RptID=\\\"32045411290\\\" TrdDt=\\\"2023-06-05\\\" BizDt=\\\"2023-06-05\\\" TxnTm=\\\"2023-11-12T05:16:59.749-05:00\\\" TrdID=\\\"32045411290\\\" TransTyp=\\\"2\\\" RptTyp=\\\"0\\\" LastQty=\\\"20.0\\\" LastPx=\\\"199.0\\\"><Hdr Snt=\\\"2023-11-12T11:18:30.348+01:00\\\" TID=\\\"PLDX\\\" SID=\\\"D242\\\"/><Instrmt Exch=\\\"SNTL\\\" ID=\\\"BUI\\\" MMY=\\\"202401\\\" CFI=\\\"FXXXXX\\\"/><RptSide Side=\\\"2\\\" CustCpcty=\\\"5\\\"><Pty ID=\\\"242\\\" R=\\\"2\\\"/><Pty ID=\\\"FIRMACT1\\\" R=\\\"26\\\"><Sub ID=\\\"2\\\" Typ=\\\"30\\\"/></Pty></RptSide></TrdCaptRpt>\",\n          \"<TrdCaptRpt RptID=\\\"2184\\\" TrdID=\\\"31247181641\\\" TransTyp=\\\"0\\\" RptTyp=\\\"2\\\" TrdTyp=\\\"2\\\" MtchID=\\\"30016019669\\\" PxTyp=\\\"2\\\" LastQty=\\\"13\\\" LastPx=\\\"107\\\" TrdDt=\\\"2023-04-20\\\" BizDt=\\\"2023-04-20\\\" TxnTm=\\\"2023-09-30T05:17:25.749-05:00\\\"><Hdr SID=\\\"MGEX\\\" TID=\\\"D208\\\" PosDup=\\\"M\\\" PosRsnd=\\\"M\\\" Snt=\\\"2023-09-30T05:17:25.788-05:00\\\"></Hdr><Instrmt Sym=\\\"BUI\\\" ID=\\\"BUI\\\" Src=\\\"J\\\" CFI=\\\"APYBKL\\\" MMY=\\\"202402\\\" MatDt=\\\"2024-02-13\\\" Mult=\\\"0.3\\\" Exch=\\\"HDPL\\\"></Instrmt><RptSide Side=\\\"3\\\" Ccy=\\\"USD\\\" InptSrc=\\\"MA\\\" InptDev=\\\"PORTAL\\\" CustCpcty=\\\"1\\\" PosEfct=\\\"C\\\" ClOrdID=\\\"145\\\" MLegRptTyp=\\\"2\\\" AllocInd=\\\"2\\\"><Pty ID=\\\"MGEX\\\" R=\\\"20\\\"></Pty><Pty ID=\\\"208\\\" R=\\\"3\\\"></Pty><Pty ID=\\\"208\\\" R=\\\"9\\\"></Pty><Pty ID=\\\"Ahlem-110\\\" R=\\\"29\\\"><Sub ID=\\\"3\\\" Typ=\\\"20\\\"></Sub></Pty><Pty ID=\\\"208\\\" R=\\\"12\\\"></Pty><TrdRegTS TS=\\\"2023-09-30T05:17:25.749-05:00\\\" Typ=\\\"3\\\"></TrdRegTS></RptSide></TrdCaptRpt> <TrdCaptRpt RptID=\\\"31247181641\\\" TrdDt=\\\"2023-04-20\\\" BizDt=\\\"2023-04-20\\\" TxnTm=\\\"2023-09-30T05:17:25.749-05:00\\\" TrdID=\\\"31247181641\\\" TransTyp=\\\"2\\\" RptTyp=\\\"0\\\" LastQty=\\\"13.0\\\" LastPx=\\\"107.0\\\"><Hdr Snt=\\\"2023-09-30T11:17:40.348+01:00\\\" TID=\\\"MGEX\\\" SID=\\\"D208\\\"/><Instrmt Exch=\\\"HDPL\\\" ID=\\\"BUI\\\" MMY=\\\"202402\\\" CFI=\\\"FXXXXX\\\"/><RptSide Side=\\\"3\\\" CustCpcty=\\\"5\\\"><Pty ID=\\\"208\\\" R=\\\"3\\\"/><Pty ID=\\\"MPLAMP6\\\" R=\\\"29\\\"><Sub ID=\\\"3\\\" Typ=\\\"20\\\"/></Pty></RptSide></TrdCaptRpt>\"\n        ],\n        \"semantic_type\": \"\",\n        \"description\": \"\"\n      }\n    }\n  ]\n}"
            }
          },
          "metadata": {},
          "execution_count": 109
        }
      ]
    },
    {
      "cell_type": "code",
      "source": [
        "df1['input_message'].iloc[0]"
      ],
      "metadata": {
        "colab": {
          "base_uri": "https://localhost:8080/",
          "height": 123
        },
        "id": "qqzQt4VoOd08",
        "outputId": "d445a9f3-02fe-447f-bb71-169f4a24d8eb"
      },
      "execution_count": 110,
      "outputs": [
        {
          "output_type": "execute_result",
          "data": {
            "text/plain": [
              "'<TrdCaptRpt RptID=\"2310\" TrdID=\"27502691318\" TransTyp=\"0\" RptTyp=\"2\" TrdTyp=\"2\" MtchID=\"33813517270\" PxTyp=\"2\" LastQty=\"11\" LastPx=\"190\" TrdDt=\"2023-06-05\" BizDt=\"2023-06-05\" TxnTm=\"2023-11-12T05:16:59.749-05:00\"><Hdr SID=\"MGEX\" TID=\"D296\" PosDup=\"M\" PosRsnd=\"M\" Snt=\"2023-11-12T05:16:59.788-05:00\"></Hdr><Instrmt Sym=\"ABP\" ID=\"ABP\" Src=\"K\" CFI=\"FCCPXX\" MMY=\"202402\" MatDt=\"2024-02-8\" Mult=\"0.3\" Exch=\"BTNL\"></Instrmt><RptSide Side=\"3\" Ccy=\"USD\" InptSrc=\"MA\" InptDev=\"PORTAL\" CustCpcty=\"1\" PosEfct=\"C\" ClOrdID=\"134\" MLegRptTyp=\"1\" AllocInd=\"0\"><Pty ID=\"MGEX\" R=\"21\"></Pty><Pty ID=\"296\" R=\"1\"></Pty><Pty ID=\"296\" R=\"6\"></Pty><Pty ID=\"Ahlem-110\" R=\"29\"><Sub ID=\"1\" Typ=\"22\"></Sub></Pty><Pty ID=\"296\" R=\"12\"></Pty><TrdRegTS TS=\"2023-11-12T05:16:59.749-05:00\" Typ=\"3\"></TrdRegTS></RptSide></TrdCaptRpt> <TrdCaptRpt RptID=\"27502691318\" TrdDt=\"2023-06-05\" BizDt=\"2023-06-05\" TxnTm=\"2023-11-12T05:16:59.749-05:00\" TrdID=\"27502691318\" TransTyp=\"2\" RptTyp=\"0\" LastQty=\"11.0\" LastPx=\"190.0\"><Hdr Snt=\"2023-11-12T11:17:55.348+01:00\" TID=\"MGEX\" SID=\"D296\"/><Instrmt Exch=\"BTNL\" ID=\"ABP\" MMY=\"202402\" CFI=\"FXXXXX\"/><RptSide Side=\"3\" CustCpcty=\"5\"><Pty ID=\"296\" R=\"1\"/><Pty ID=\"AKLPM9\" R=\"29\"><Sub ID=\"1\" Typ=\"22\"/></Pty></RptSide></TrdCaptRpt>'"
            ],
            "application/vnd.google.colaboratory.intrinsic+json": {
              "type": "string"
            }
          },
          "metadata": {},
          "execution_count": 110
        }
      ]
    },
    {
      "cell_type": "code",
      "source": [
        "import re"
      ],
      "metadata": {
        "id": "hNghcv-SOgb6"
      },
      "execution_count": 111,
      "outputs": []
    },
    {
      "cell_type": "code",
      "source": [
        "def clean_text(input_text):\n",
        "    pattern = r'[<\\\"/]'\n",
        "    cleaned_text1 = re.sub(pattern, '', input_text)\n",
        "    cleaned_text = cleaned_text1.replace('>',' ')\n",
        "    return cleaned_text"
      ],
      "metadata": {
        "id": "pY3tOP6ROnZV"
      },
      "execution_count": 112,
      "outputs": []
    },
    {
      "cell_type": "code",
      "source": [
        "df2 = df1.copy()"
      ],
      "metadata": {
        "id": "DdMSMUs1OrVx"
      },
      "execution_count": 113,
      "outputs": []
    },
    {
      "cell_type": "code",
      "source": [
        "df2['cleaned_input_message'] = df2['input_message'].apply(clean_text)\n",
        "df2 = df2.drop('input_message',axis=1)"
      ],
      "metadata": {
        "id": "8lcG3BCfO0RN"
      },
      "execution_count": 114,
      "outputs": []
    },
    {
      "cell_type": "code",
      "source": [
        "df2.head()"
      ],
      "metadata": {
        "colab": {
          "base_uri": "https://localhost:8080/",
          "height": 206
        },
        "id": "2ydT_buhO2YR",
        "outputId": "9b093671-5b5e-4262-d193-446c196186ea"
      },
      "execution_count": 115,
      "outputs": [
        {
          "output_type": "execute_result",
          "data": {
            "text/plain": [
              "                                         CCP_Message  \\\n",
              "0  <TrdCaptRpt RptID=\"2310\" TrdID=\"27502691318\" T...   \n",
              "1  <TrdCaptRpt RptID=\"2825\" TrdID=\"33169904980\" T...   \n",
              "2  <TrdCaptRpt RptID=\"2888\" TrdID=\"39132139620\" T...   \n",
              "3  <TrdCaptRpt RptID=\"2096\" TrdID=\"27116757988\" T...   \n",
              "4  <TrdCaptRpt RptID=\"2985\" TrdID=\"24295892197\" T...   \n",
              "\n",
              "                               cleaned_input_message  \n",
              "0  TrdCaptRpt RptID=2310 TrdID=27502691318 TransT...  \n",
              "1  TrdCaptRpt RptID=2825 TrdID=33169904980 TransT...  \n",
              "2  TrdCaptRpt RptID=2888 TrdID=39132139620 TransT...  \n",
              "3  TrdCaptRpt RptID=2096 TrdID=27116757988 TransT...  \n",
              "4  TrdCaptRpt RptID=2985 TrdID=24295892197 TransT...  "
            ],
            "text/html": [
              "\n",
              "  <div id=\"df-39060c7e-970f-40ed-a6a7-62881d29733f\" class=\"colab-df-container\">\n",
              "    <div>\n",
              "<style scoped>\n",
              "    .dataframe tbody tr th:only-of-type {\n",
              "        vertical-align: middle;\n",
              "    }\n",
              "\n",
              "    .dataframe tbody tr th {\n",
              "        vertical-align: top;\n",
              "    }\n",
              "\n",
              "    .dataframe thead th {\n",
              "        text-align: right;\n",
              "    }\n",
              "</style>\n",
              "<table border=\"1\" class=\"dataframe\">\n",
              "  <thead>\n",
              "    <tr style=\"text-align: right;\">\n",
              "      <th></th>\n",
              "      <th>CCP_Message</th>\n",
              "      <th>cleaned_input_message</th>\n",
              "    </tr>\n",
              "  </thead>\n",
              "  <tbody>\n",
              "    <tr>\n",
              "      <th>0</th>\n",
              "      <td>&lt;TrdCaptRpt RptID=\"2310\" TrdID=\"27502691318\" T...</td>\n",
              "      <td>TrdCaptRpt RptID=2310 TrdID=27502691318 TransT...</td>\n",
              "    </tr>\n",
              "    <tr>\n",
              "      <th>1</th>\n",
              "      <td>&lt;TrdCaptRpt RptID=\"2825\" TrdID=\"33169904980\" T...</td>\n",
              "      <td>TrdCaptRpt RptID=2825 TrdID=33169904980 TransT...</td>\n",
              "    </tr>\n",
              "    <tr>\n",
              "      <th>2</th>\n",
              "      <td>&lt;TrdCaptRpt RptID=\"2888\" TrdID=\"39132139620\" T...</td>\n",
              "      <td>TrdCaptRpt RptID=2888 TrdID=39132139620 TransT...</td>\n",
              "    </tr>\n",
              "    <tr>\n",
              "      <th>3</th>\n",
              "      <td>&lt;TrdCaptRpt RptID=\"2096\" TrdID=\"27116757988\" T...</td>\n",
              "      <td>TrdCaptRpt RptID=2096 TrdID=27116757988 TransT...</td>\n",
              "    </tr>\n",
              "    <tr>\n",
              "      <th>4</th>\n",
              "      <td>&lt;TrdCaptRpt RptID=\"2985\" TrdID=\"24295892197\" T...</td>\n",
              "      <td>TrdCaptRpt RptID=2985 TrdID=24295892197 TransT...</td>\n",
              "    </tr>\n",
              "  </tbody>\n",
              "</table>\n",
              "</div>\n",
              "    <div class=\"colab-df-buttons\">\n",
              "\n",
              "  <div class=\"colab-df-container\">\n",
              "    <button class=\"colab-df-convert\" onclick=\"convertToInteractive('df-39060c7e-970f-40ed-a6a7-62881d29733f')\"\n",
              "            title=\"Convert this dataframe to an interactive table.\"\n",
              "            style=\"display:none;\">\n",
              "\n",
              "  <svg xmlns=\"http://www.w3.org/2000/svg\" height=\"24px\" viewBox=\"0 -960 960 960\">\n",
              "    <path d=\"M120-120v-720h720v720H120Zm60-500h600v-160H180v160Zm220 220h160v-160H400v160Zm0 220h160v-160H400v160ZM180-400h160v-160H180v160Zm440 0h160v-160H620v160ZM180-180h160v-160H180v160Zm440 0h160v-160H620v160Z\"/>\n",
              "  </svg>\n",
              "    </button>\n",
              "\n",
              "  <style>\n",
              "    .colab-df-container {\n",
              "      display:flex;\n",
              "      gap: 12px;\n",
              "    }\n",
              "\n",
              "    .colab-df-convert {\n",
              "      background-color: #E8F0FE;\n",
              "      border: none;\n",
              "      border-radius: 50%;\n",
              "      cursor: pointer;\n",
              "      display: none;\n",
              "      fill: #1967D2;\n",
              "      height: 32px;\n",
              "      padding: 0 0 0 0;\n",
              "      width: 32px;\n",
              "    }\n",
              "\n",
              "    .colab-df-convert:hover {\n",
              "      background-color: #E2EBFA;\n",
              "      box-shadow: 0px 1px 2px rgba(60, 64, 67, 0.3), 0px 1px 3px 1px rgba(60, 64, 67, 0.15);\n",
              "      fill: #174EA6;\n",
              "    }\n",
              "\n",
              "    .colab-df-buttons div {\n",
              "      margin-bottom: 4px;\n",
              "    }\n",
              "\n",
              "    [theme=dark] .colab-df-convert {\n",
              "      background-color: #3B4455;\n",
              "      fill: #D2E3FC;\n",
              "    }\n",
              "\n",
              "    [theme=dark] .colab-df-convert:hover {\n",
              "      background-color: #434B5C;\n",
              "      box-shadow: 0px 1px 3px 1px rgba(0, 0, 0, 0.15);\n",
              "      filter: drop-shadow(0px 1px 2px rgba(0, 0, 0, 0.3));\n",
              "      fill: #FFFFFF;\n",
              "    }\n",
              "  </style>\n",
              "\n",
              "    <script>\n",
              "      const buttonEl =\n",
              "        document.querySelector('#df-39060c7e-970f-40ed-a6a7-62881d29733f button.colab-df-convert');\n",
              "      buttonEl.style.display =\n",
              "        google.colab.kernel.accessAllowed ? 'block' : 'none';\n",
              "\n",
              "      async function convertToInteractive(key) {\n",
              "        const element = document.querySelector('#df-39060c7e-970f-40ed-a6a7-62881d29733f');\n",
              "        const dataTable =\n",
              "          await google.colab.kernel.invokeFunction('convertToInteractive',\n",
              "                                                    [key], {});\n",
              "        if (!dataTable) return;\n",
              "\n",
              "        const docLinkHtml = 'Like what you see? Visit the ' +\n",
              "          '<a target=\"_blank\" href=https://colab.research.google.com/notebooks/data_table.ipynb>data table notebook</a>'\n",
              "          + ' to learn more about interactive tables.';\n",
              "        element.innerHTML = '';\n",
              "        dataTable['output_type'] = 'display_data';\n",
              "        await google.colab.output.renderOutput(dataTable, element);\n",
              "        const docLink = document.createElement('div');\n",
              "        docLink.innerHTML = docLinkHtml;\n",
              "        element.appendChild(docLink);\n",
              "      }\n",
              "    </script>\n",
              "  </div>\n",
              "\n",
              "\n",
              "<div id=\"df-7ef0dde1-baba-4759-bc77-b64b4fe8cfe2\">\n",
              "  <button class=\"colab-df-quickchart\" onclick=\"quickchart('df-7ef0dde1-baba-4759-bc77-b64b4fe8cfe2')\"\n",
              "            title=\"Suggest charts\"\n",
              "            style=\"display:none;\">\n",
              "\n",
              "<svg xmlns=\"http://www.w3.org/2000/svg\" height=\"24px\"viewBox=\"0 0 24 24\"\n",
              "     width=\"24px\">\n",
              "    <g>\n",
              "        <path d=\"M19 3H5c-1.1 0-2 .9-2 2v14c0 1.1.9 2 2 2h14c1.1 0 2-.9 2-2V5c0-1.1-.9-2-2-2zM9 17H7v-7h2v7zm4 0h-2V7h2v10zm4 0h-2v-4h2v4z\"/>\n",
              "    </g>\n",
              "</svg>\n",
              "  </button>\n",
              "\n",
              "<style>\n",
              "  .colab-df-quickchart {\n",
              "      --bg-color: #E8F0FE;\n",
              "      --fill-color: #1967D2;\n",
              "      --hover-bg-color: #E2EBFA;\n",
              "      --hover-fill-color: #174EA6;\n",
              "      --disabled-fill-color: #AAA;\n",
              "      --disabled-bg-color: #DDD;\n",
              "  }\n",
              "\n",
              "  [theme=dark] .colab-df-quickchart {\n",
              "      --bg-color: #3B4455;\n",
              "      --fill-color: #D2E3FC;\n",
              "      --hover-bg-color: #434B5C;\n",
              "      --hover-fill-color: #FFFFFF;\n",
              "      --disabled-bg-color: #3B4455;\n",
              "      --disabled-fill-color: #666;\n",
              "  }\n",
              "\n",
              "  .colab-df-quickchart {\n",
              "    background-color: var(--bg-color);\n",
              "    border: none;\n",
              "    border-radius: 50%;\n",
              "    cursor: pointer;\n",
              "    display: none;\n",
              "    fill: var(--fill-color);\n",
              "    height: 32px;\n",
              "    padding: 0;\n",
              "    width: 32px;\n",
              "  }\n",
              "\n",
              "  .colab-df-quickchart:hover {\n",
              "    background-color: var(--hover-bg-color);\n",
              "    box-shadow: 0 1px 2px rgba(60, 64, 67, 0.3), 0 1px 3px 1px rgba(60, 64, 67, 0.15);\n",
              "    fill: var(--button-hover-fill-color);\n",
              "  }\n",
              "\n",
              "  .colab-df-quickchart-complete:disabled,\n",
              "  .colab-df-quickchart-complete:disabled:hover {\n",
              "    background-color: var(--disabled-bg-color);\n",
              "    fill: var(--disabled-fill-color);\n",
              "    box-shadow: none;\n",
              "  }\n",
              "\n",
              "  .colab-df-spinner {\n",
              "    border: 2px solid var(--fill-color);\n",
              "    border-color: transparent;\n",
              "    border-bottom-color: var(--fill-color);\n",
              "    animation:\n",
              "      spin 1s steps(1) infinite;\n",
              "  }\n",
              "\n",
              "  @keyframes spin {\n",
              "    0% {\n",
              "      border-color: transparent;\n",
              "      border-bottom-color: var(--fill-color);\n",
              "      border-left-color: var(--fill-color);\n",
              "    }\n",
              "    20% {\n",
              "      border-color: transparent;\n",
              "      border-left-color: var(--fill-color);\n",
              "      border-top-color: var(--fill-color);\n",
              "    }\n",
              "    30% {\n",
              "      border-color: transparent;\n",
              "      border-left-color: var(--fill-color);\n",
              "      border-top-color: var(--fill-color);\n",
              "      border-right-color: var(--fill-color);\n",
              "    }\n",
              "    40% {\n",
              "      border-color: transparent;\n",
              "      border-right-color: var(--fill-color);\n",
              "      border-top-color: var(--fill-color);\n",
              "    }\n",
              "    60% {\n",
              "      border-color: transparent;\n",
              "      border-right-color: var(--fill-color);\n",
              "    }\n",
              "    80% {\n",
              "      border-color: transparent;\n",
              "      border-right-color: var(--fill-color);\n",
              "      border-bottom-color: var(--fill-color);\n",
              "    }\n",
              "    90% {\n",
              "      border-color: transparent;\n",
              "      border-bottom-color: var(--fill-color);\n",
              "    }\n",
              "  }\n",
              "</style>\n",
              "\n",
              "  <script>\n",
              "    async function quickchart(key) {\n",
              "      const quickchartButtonEl =\n",
              "        document.querySelector('#' + key + ' button');\n",
              "      quickchartButtonEl.disabled = true;  // To prevent multiple clicks.\n",
              "      quickchartButtonEl.classList.add('colab-df-spinner');\n",
              "      try {\n",
              "        const charts = await google.colab.kernel.invokeFunction(\n",
              "            'suggestCharts', [key], {});\n",
              "      } catch (error) {\n",
              "        console.error('Error during call to suggestCharts:', error);\n",
              "      }\n",
              "      quickchartButtonEl.classList.remove('colab-df-spinner');\n",
              "      quickchartButtonEl.classList.add('colab-df-quickchart-complete');\n",
              "    }\n",
              "    (() => {\n",
              "      let quickchartButtonEl =\n",
              "        document.querySelector('#df-7ef0dde1-baba-4759-bc77-b64b4fe8cfe2 button');\n",
              "      quickchartButtonEl.style.display =\n",
              "        google.colab.kernel.accessAllowed ? 'block' : 'none';\n",
              "    })();\n",
              "  </script>\n",
              "</div>\n",
              "\n",
              "    </div>\n",
              "  </div>\n"
            ],
            "application/vnd.google.colaboratory.intrinsic+json": {
              "type": "dataframe",
              "variable_name": "df2",
              "summary": "{\n  \"name\": \"df2\",\n  \"rows\": 1000,\n  \"fields\": [\n    {\n      \"column\": \"CCP_Message\",\n      \"properties\": {\n        \"dtype\": \"string\",\n        \"num_unique_values\": 1000,\n        \"samples\": [\n          \"<TrdCaptRpt RptID=\\\"2248\\\" TrdID=\\\"25894873152\\\" TransTyp=\\\"2\\\" RptTyp=\\\"2\\\" TrdTyp=\\\"2\\\" MtchID=\\\"39136266640\\\" PxTyp=\\\"2\\\" LastQty=\\\"14\\\" LastPx=\\\"144\\\" TrdDt=\\\"2022-12-17\\\" BizDt=\\\"2022-12-17\\\" TxnTm=\\\"2023-09-30T05:18:30.138-05:00\\\"><Hdr SID=\\\"MGEX\\\" TID=\\\"D278\\\" PosDup=\\\"P\\\" PosRsnd=\\\"P\\\" Snt=\\\"2023-09-30T05:18:30.160-05:00\\\"></Hdr><Instrmt Sym=\\\"BUI\\\" ID=\\\"BUI\\\" Src=\\\"H\\\" CFI=\\\"FCCPXX\\\" MMY=\\\"202402\\\" MatDt=\\\"2024-02-1\\\" Mult=\\\"0.5\\\" Exch=\\\"BTNL\\\"></Instrmt><RptSide Side=\\\"1\\\" Ccy=\\\"USD\\\" InptSrc=\\\"BS\\\" InptDev=\\\"PORTAL\\\" CustCpcty=\\\"5\\\" PosEfct=\\\"D\\\" ClOrdID=\\\"145\\\" MLegRptTyp=\\\"1\\\" AllocInd=\\\"0\\\"><Pty ID=\\\"MGEX\\\" R=\\\"23\\\"></Pty><Pty ID=\\\"278\\\" R=\\\"2\\\"></Pty><Pty ID=\\\"278\\\" R=\\\"6\\\"></Pty><Pty ID=\\\"MPLAMP6\\\" R=\\\"29\\\"><Sub ID=\\\"1\\\" Typ=\\\"20\\\"></Sub></Pty><Pty ID=\\\"278\\\" R=\\\"16\\\"></Pty><TrdRegTS TS=\\\"2023-09-30T05:17:18.749-05:00\\\" Typ=\\\"3\\\"></TrdRegTS></RptSide></TrdCaptRpt>\",\n          \"<TrdCaptRpt RptID=\\\"2734\\\" TrdID=\\\"32045411290\\\" TransTyp=\\\"2\\\" RptTyp=\\\"2\\\" TrdTyp=\\\"2\\\" MtchID=\\\"35827226987\\\" PxTyp=\\\"2\\\" LastQty=\\\"20\\\" LastPx=\\\"199\\\" TrdDt=\\\"2023-06-05\\\" BizDt=\\\"2023-06-05\\\" TxnTm=\\\"2023-11-12T05:18:30.138-05:00\\\"><Hdr SID=\\\"PLDX\\\" TID=\\\"D242\\\" PosDup=\\\"N\\\" PosRsnd=\\\"N\\\" Snt=\\\"2023-11-12T05:18:30.160-05:00\\\"></Hdr><Instrmt Sym=\\\"BUI\\\" ID=\\\"BUI\\\" Src=\\\"K\\\" CFI=\\\"MKLPON\\\" MMY=\\\"202401\\\" MatDt=\\\"2024-01-20\\\" Mult=\\\"0.5\\\" Exch=\\\"SNTL\\\"></Instrmt><RptSide Side=\\\"2\\\" Ccy=\\\"USD\\\" InptSrc=\\\"BS\\\" InptDev=\\\"PORTAL\\\" CustCpcty=\\\"5\\\" PosEfct=\\\"C\\\" ClOrdID=\\\"134\\\" MLegRptTyp=\\\"2\\\" AllocInd=\\\"0\\\"><Pty ID=\\\"PLDX\\\" R=\\\"21\\\"></Pty><Pty ID=\\\"242\\\" R=\\\"2\\\"></Pty><Pty ID=\\\"242\\\" R=\\\"8\\\"></Pty><Pty ID=\\\"FIRMACT1\\\" R=\\\"26\\\"><Sub ID=\\\"2\\\" Typ=\\\"30\\\"></Sub></Pty><Pty ID=\\\"242\\\" R=\\\"14\\\"></Pty><TrdRegTS TS=\\\"2023-11-12T05:16:59.749-05:00\\\" Typ=\\\"4\\\"></TrdRegTS></RptSide></TrdCaptRpt>\",\n          \"<TrdCaptRpt RptID=\\\"2184\\\" TrdID=\\\"31247181641\\\" TransTyp=\\\"2\\\" RptTyp=\\\"2\\\" TrdTyp=\\\"2\\\" MtchID=\\\"30016019669\\\" PxTyp=\\\"2\\\" LastQty=\\\"13\\\" LastPx=\\\"107\\\" TrdDt=\\\"2023-04-20\\\" BizDt=\\\"2023-04-20\\\" TxnTm=\\\"2023-09-30T05:17:40.138-05:00\\\"><Hdr SID=\\\"MGEX\\\" TID=\\\"D208\\\" PosDup=\\\"M\\\" PosRsnd=\\\"M\\\" Snt=\\\"2023-09-30T05:17:40.160-05:00\\\"></Hdr><Instrmt Sym=\\\"BUI\\\" ID=\\\"BUI\\\" Src=\\\"J\\\" CFI=\\\"APYBKL\\\" MMY=\\\"202402\\\" MatDt=\\\"2024-02-13\\\" Mult=\\\"0.3\\\" Exch=\\\"HDPL\\\"></Instrmt><RptSide Side=\\\"3\\\" Ccy=\\\"USD\\\" InptSrc=\\\"MA\\\" InptDev=\\\"PORTAL\\\" CustCpcty=\\\"5\\\" PosEfct=\\\"C\\\" ClOrdID=\\\"145\\\" MLegRptTyp=\\\"2\\\" AllocInd=\\\"2\\\"><Pty ID=\\\"MGEX\\\" R=\\\"20\\\"></Pty><Pty ID=\\\"208\\\" R=\\\"3\\\"></Pty><Pty ID=\\\"208\\\" R=\\\"9\\\"></Pty><Pty ID=\\\"MPLAMP6\\\" R=\\\"29\\\"><Sub ID=\\\"3\\\" Typ=\\\"20\\\"></Sub></Pty><Pty ID=\\\"208\\\" R=\\\"12\\\"></Pty><TrdRegTS TS=\\\"2023-09-30T05:17:25.749-05:00\\\" Typ=\\\"3\\\"></TrdRegTS></RptSide></TrdCaptRpt>\"\n        ],\n        \"semantic_type\": \"\",\n        \"description\": \"\"\n      }\n    },\n    {\n      \"column\": \"cleaned_input_message\",\n      \"properties\": {\n        \"dtype\": \"string\",\n        \"num_unique_values\": 1000,\n        \"samples\": [\n          \"TrdCaptRpt RptID=2248 TrdID=25894873152 TransTyp=0 RptTyp=2 TrdTyp=2 MtchID=39136266640 PxTyp=2 LastQty=14 LastPx=144 TrdDt=2022-12-17 BizDt=2022-12-17 TxnTm=2023-09-30T05:17:18.749-05:00 Hdr SID=MGEX TID=D278 PosDup=P PosRsnd=P Snt=2023-09-30T05:17:18.788-05:00 Hdr Instrmt Sym=BUI ID=BUI Src=H CFI=FCCPXX MMY=202402 MatDt=2024-02-1 Mult=0.5 Exch=BTNL Instrmt RptSide Side=1 Ccy=USD InptSrc=BS InptDev=PORTAL CustCpcty=1 PosEfct=D ClOrdID=145 MLegRptTyp=1 AllocInd=0 Pty ID=MGEX R=23 Pty Pty ID=278 R=2 Pty Pty ID=278 R=6 Pty Pty ID=Mohamed-300 R=29 Sub ID=1 Typ=20 Sub Pty Pty ID=278 R=16 Pty TrdRegTS TS=2023-09-30T05:17:18.749-05:00 Typ=3 TrdRegTS RptSide TrdCaptRpt  TrdCaptRpt RptID=25894873152 TrdDt=2022-12-17 BizDt=2022-12-17 TxnTm=2023-09-30T05:17:18.749-05:00 TrdID=25894873152 TransTyp=2 RptTyp=0 LastQty=14.0 LastPx=144.0 Hdr Snt=2023-09-30T11:18:30.348+01:00 TID=MGEX SID=D278 Instrmt Exch=BTNL ID=BUI MMY=202402 CFI=FXXXXX RptSide Side=1 CustCpcty=5 Pty ID=278 R=2 Pty ID=MPLAMP6 R=29 Sub ID=1 Typ=20 Pty RptSide TrdCaptRpt \",\n          \"TrdCaptRpt RptID=2734 TrdID=32045411290 TransTyp=0 RptTyp=2 TrdTyp=2 MtchID=35827226987 PxTyp=2 LastQty=20 LastPx=199 TrdDt=2023-06-05 BizDt=2023-06-05 TxnTm=2023-11-12T05:16:59.749-05:00 Hdr SID=PLDX TID=D242 PosDup=N PosRsnd=N Snt=2023-11-12T05:16:59.788-05:00 Hdr Instrmt Sym=BUI ID=BUI Src=K CFI=MKLPON MMY=202401 MatDt=2024-01-20 Mult=0.5 Exch=SNTL Instrmt RptSide Side=2 Ccy=USD InptSrc=BS InptDev=PORTAL CustCpcty=1 PosEfct=C ClOrdID=134 MLegRptTyp=2 AllocInd=0 Pty ID=PLDX R=21 Pty Pty ID=242 R=2 Pty Pty ID=242 R=8 Pty Pty ID=Karim-200 R=26 Sub ID=2 Typ=30 Sub Pty Pty ID=242 R=14 Pty TrdRegTS TS=2023-11-12T05:16:59.749-05:00 Typ=4 TrdRegTS RptSide TrdCaptRpt  TrdCaptRpt RptID=32045411290 TrdDt=2023-06-05 BizDt=2023-06-05 TxnTm=2023-11-12T05:16:59.749-05:00 TrdID=32045411290 TransTyp=2 RptTyp=0 LastQty=20.0 LastPx=199.0 Hdr Snt=2023-11-12T11:18:30.348+01:00 TID=PLDX SID=D242 Instrmt Exch=SNTL ID=BUI MMY=202401 CFI=FXXXXX RptSide Side=2 CustCpcty=5 Pty ID=242 R=2 Pty ID=FIRMACT1 R=26 Sub ID=2 Typ=30 Pty RptSide TrdCaptRpt \",\n          \"TrdCaptRpt RptID=2184 TrdID=31247181641 TransTyp=0 RptTyp=2 TrdTyp=2 MtchID=30016019669 PxTyp=2 LastQty=13 LastPx=107 TrdDt=2023-04-20 BizDt=2023-04-20 TxnTm=2023-09-30T05:17:25.749-05:00 Hdr SID=MGEX TID=D208 PosDup=M PosRsnd=M Snt=2023-09-30T05:17:25.788-05:00 Hdr Instrmt Sym=BUI ID=BUI Src=J CFI=APYBKL MMY=202402 MatDt=2024-02-13 Mult=0.3 Exch=HDPL Instrmt RptSide Side=3 Ccy=USD InptSrc=MA InptDev=PORTAL CustCpcty=1 PosEfct=C ClOrdID=145 MLegRptTyp=2 AllocInd=2 Pty ID=MGEX R=20 Pty Pty ID=208 R=3 Pty Pty ID=208 R=9 Pty Pty ID=Ahlem-110 R=29 Sub ID=3 Typ=20 Sub Pty Pty ID=208 R=12 Pty TrdRegTS TS=2023-09-30T05:17:25.749-05:00 Typ=3 TrdRegTS RptSide TrdCaptRpt  TrdCaptRpt RptID=31247181641 TrdDt=2023-04-20 BizDt=2023-04-20 TxnTm=2023-09-30T05:17:25.749-05:00 TrdID=31247181641 TransTyp=2 RptTyp=0 LastQty=13.0 LastPx=107.0 Hdr Snt=2023-09-30T11:17:40.348+01:00 TID=MGEX SID=D208 Instrmt Exch=HDPL ID=BUI MMY=202402 CFI=FXXXXX RptSide Side=3 CustCpcty=5 Pty ID=208 R=3 Pty ID=MPLAMP6 R=29 Sub ID=3 Typ=20 Pty RptSide TrdCaptRpt \"\n        ],\n        \"semantic_type\": \"\",\n        \"description\": \"\"\n      }\n    }\n  ]\n}"
            }
          },
          "metadata": {},
          "execution_count": 115
        }
      ]
    },
    {
      "cell_type": "code",
      "source": [
        "from sklearn.model_selection import train_test_split"
      ],
      "metadata": {
        "id": "Jj95yOVxO4--"
      },
      "execution_count": 116,
      "outputs": []
    },
    {
      "cell_type": "code",
      "source": [
        "X_train, X_val, y_train, y_val = train_test_split(df2['cleaned_input_message'], df2['CCP_Message'], test_size=0.1, random_state=42)"
      ],
      "metadata": {
        "id": "tt79Hd0UO7dc"
      },
      "execution_count": 117,
      "outputs": []
    },
    {
      "cell_type": "code",
      "source": [
        "train_data = pd.concat([X_train, y_train], axis=1)"
      ],
      "metadata": {
        "id": "yRTjTdSuO90I"
      },
      "execution_count": 118,
      "outputs": []
    },
    {
      "cell_type": "code",
      "source": [
        "train_data.head()"
      ],
      "metadata": {
        "colab": {
          "base_uri": "https://localhost:8080/",
          "height": 206
        },
        "id": "ltb_qrWbPAbe",
        "outputId": "59ba02f8-48d8-4448-c23e-c9bc79d0d3da"
      },
      "execution_count": 119,
      "outputs": [
        {
          "output_type": "execute_result",
          "data": {
            "text/plain": [
              "                                 cleaned_input_message  \\\n",
              "716  TrdCaptRpt RptID=2237 TrdID=25538446536 TransT...   \n",
              "351  TrdCaptRpt RptID=2257 TrdID=32060473728 TransT...   \n",
              "936  TrdCaptRpt RptID=2835 TrdID=25637343409 TransT...   \n",
              "256  TrdCaptRpt RptID=2384 TrdID=21817835689 TransT...   \n",
              "635  TrdCaptRpt RptID=2804 TrdID=33495935425 TransT...   \n",
              "\n",
              "                                           CCP_Message  \n",
              "716  <TrdCaptRpt RptID=\"2237\" TrdID=\"25538446536\" T...  \n",
              "351  <TrdCaptRpt RptID=\"2257\" TrdID=\"32060473728\" T...  \n",
              "936  <TrdCaptRpt RptID=\"2835\" TrdID=\"25637343409\" T...  \n",
              "256  <TrdCaptRpt RptID=\"2384\" TrdID=\"21817835689\" T...  \n",
              "635  <TrdCaptRpt RptID=\"2804\" TrdID=\"33495935425\" T...  "
            ],
            "text/html": [
              "\n",
              "  <div id=\"df-da517d78-ee1c-4741-8106-0eca7d83bd2f\" class=\"colab-df-container\">\n",
              "    <div>\n",
              "<style scoped>\n",
              "    .dataframe tbody tr th:only-of-type {\n",
              "        vertical-align: middle;\n",
              "    }\n",
              "\n",
              "    .dataframe tbody tr th {\n",
              "        vertical-align: top;\n",
              "    }\n",
              "\n",
              "    .dataframe thead th {\n",
              "        text-align: right;\n",
              "    }\n",
              "</style>\n",
              "<table border=\"1\" class=\"dataframe\">\n",
              "  <thead>\n",
              "    <tr style=\"text-align: right;\">\n",
              "      <th></th>\n",
              "      <th>cleaned_input_message</th>\n",
              "      <th>CCP_Message</th>\n",
              "    </tr>\n",
              "  </thead>\n",
              "  <tbody>\n",
              "    <tr>\n",
              "      <th>716</th>\n",
              "      <td>TrdCaptRpt RptID=2237 TrdID=25538446536 TransT...</td>\n",
              "      <td>&lt;TrdCaptRpt RptID=\"2237\" TrdID=\"25538446536\" T...</td>\n",
              "    </tr>\n",
              "    <tr>\n",
              "      <th>351</th>\n",
              "      <td>TrdCaptRpt RptID=2257 TrdID=32060473728 TransT...</td>\n",
              "      <td>&lt;TrdCaptRpt RptID=\"2257\" TrdID=\"32060473728\" T...</td>\n",
              "    </tr>\n",
              "    <tr>\n",
              "      <th>936</th>\n",
              "      <td>TrdCaptRpt RptID=2835 TrdID=25637343409 TransT...</td>\n",
              "      <td>&lt;TrdCaptRpt RptID=\"2835\" TrdID=\"25637343409\" T...</td>\n",
              "    </tr>\n",
              "    <tr>\n",
              "      <th>256</th>\n",
              "      <td>TrdCaptRpt RptID=2384 TrdID=21817835689 TransT...</td>\n",
              "      <td>&lt;TrdCaptRpt RptID=\"2384\" TrdID=\"21817835689\" T...</td>\n",
              "    </tr>\n",
              "    <tr>\n",
              "      <th>635</th>\n",
              "      <td>TrdCaptRpt RptID=2804 TrdID=33495935425 TransT...</td>\n",
              "      <td>&lt;TrdCaptRpt RptID=\"2804\" TrdID=\"33495935425\" T...</td>\n",
              "    </tr>\n",
              "  </tbody>\n",
              "</table>\n",
              "</div>\n",
              "    <div class=\"colab-df-buttons\">\n",
              "\n",
              "  <div class=\"colab-df-container\">\n",
              "    <button class=\"colab-df-convert\" onclick=\"convertToInteractive('df-da517d78-ee1c-4741-8106-0eca7d83bd2f')\"\n",
              "            title=\"Convert this dataframe to an interactive table.\"\n",
              "            style=\"display:none;\">\n",
              "\n",
              "  <svg xmlns=\"http://www.w3.org/2000/svg\" height=\"24px\" viewBox=\"0 -960 960 960\">\n",
              "    <path d=\"M120-120v-720h720v720H120Zm60-500h600v-160H180v160Zm220 220h160v-160H400v160Zm0 220h160v-160H400v160ZM180-400h160v-160H180v160Zm440 0h160v-160H620v160ZM180-180h160v-160H180v160Zm440 0h160v-160H620v160Z\"/>\n",
              "  </svg>\n",
              "    </button>\n",
              "\n",
              "  <style>\n",
              "    .colab-df-container {\n",
              "      display:flex;\n",
              "      gap: 12px;\n",
              "    }\n",
              "\n",
              "    .colab-df-convert {\n",
              "      background-color: #E8F0FE;\n",
              "      border: none;\n",
              "      border-radius: 50%;\n",
              "      cursor: pointer;\n",
              "      display: none;\n",
              "      fill: #1967D2;\n",
              "      height: 32px;\n",
              "      padding: 0 0 0 0;\n",
              "      width: 32px;\n",
              "    }\n",
              "\n",
              "    .colab-df-convert:hover {\n",
              "      background-color: #E2EBFA;\n",
              "      box-shadow: 0px 1px 2px rgba(60, 64, 67, 0.3), 0px 1px 3px 1px rgba(60, 64, 67, 0.15);\n",
              "      fill: #174EA6;\n",
              "    }\n",
              "\n",
              "    .colab-df-buttons div {\n",
              "      margin-bottom: 4px;\n",
              "    }\n",
              "\n",
              "    [theme=dark] .colab-df-convert {\n",
              "      background-color: #3B4455;\n",
              "      fill: #D2E3FC;\n",
              "    }\n",
              "\n",
              "    [theme=dark] .colab-df-convert:hover {\n",
              "      background-color: #434B5C;\n",
              "      box-shadow: 0px 1px 3px 1px rgba(0, 0, 0, 0.15);\n",
              "      filter: drop-shadow(0px 1px 2px rgba(0, 0, 0, 0.3));\n",
              "      fill: #FFFFFF;\n",
              "    }\n",
              "  </style>\n",
              "\n",
              "    <script>\n",
              "      const buttonEl =\n",
              "        document.querySelector('#df-da517d78-ee1c-4741-8106-0eca7d83bd2f button.colab-df-convert');\n",
              "      buttonEl.style.display =\n",
              "        google.colab.kernel.accessAllowed ? 'block' : 'none';\n",
              "\n",
              "      async function convertToInteractive(key) {\n",
              "        const element = document.querySelector('#df-da517d78-ee1c-4741-8106-0eca7d83bd2f');\n",
              "        const dataTable =\n",
              "          await google.colab.kernel.invokeFunction('convertToInteractive',\n",
              "                                                    [key], {});\n",
              "        if (!dataTable) return;\n",
              "\n",
              "        const docLinkHtml = 'Like what you see? Visit the ' +\n",
              "          '<a target=\"_blank\" href=https://colab.research.google.com/notebooks/data_table.ipynb>data table notebook</a>'\n",
              "          + ' to learn more about interactive tables.';\n",
              "        element.innerHTML = '';\n",
              "        dataTable['output_type'] = 'display_data';\n",
              "        await google.colab.output.renderOutput(dataTable, element);\n",
              "        const docLink = document.createElement('div');\n",
              "        docLink.innerHTML = docLinkHtml;\n",
              "        element.appendChild(docLink);\n",
              "      }\n",
              "    </script>\n",
              "  </div>\n",
              "\n",
              "\n",
              "<div id=\"df-1fcb5a86-5b9b-44e9-b54b-a0395f997557\">\n",
              "  <button class=\"colab-df-quickchart\" onclick=\"quickchart('df-1fcb5a86-5b9b-44e9-b54b-a0395f997557')\"\n",
              "            title=\"Suggest charts\"\n",
              "            style=\"display:none;\">\n",
              "\n",
              "<svg xmlns=\"http://www.w3.org/2000/svg\" height=\"24px\"viewBox=\"0 0 24 24\"\n",
              "     width=\"24px\">\n",
              "    <g>\n",
              "        <path d=\"M19 3H5c-1.1 0-2 .9-2 2v14c0 1.1.9 2 2 2h14c1.1 0 2-.9 2-2V5c0-1.1-.9-2-2-2zM9 17H7v-7h2v7zm4 0h-2V7h2v10zm4 0h-2v-4h2v4z\"/>\n",
              "    </g>\n",
              "</svg>\n",
              "  </button>\n",
              "\n",
              "<style>\n",
              "  .colab-df-quickchart {\n",
              "      --bg-color: #E8F0FE;\n",
              "      --fill-color: #1967D2;\n",
              "      --hover-bg-color: #E2EBFA;\n",
              "      --hover-fill-color: #174EA6;\n",
              "      --disabled-fill-color: #AAA;\n",
              "      --disabled-bg-color: #DDD;\n",
              "  }\n",
              "\n",
              "  [theme=dark] .colab-df-quickchart {\n",
              "      --bg-color: #3B4455;\n",
              "      --fill-color: #D2E3FC;\n",
              "      --hover-bg-color: #434B5C;\n",
              "      --hover-fill-color: #FFFFFF;\n",
              "      --disabled-bg-color: #3B4455;\n",
              "      --disabled-fill-color: #666;\n",
              "  }\n",
              "\n",
              "  .colab-df-quickchart {\n",
              "    background-color: var(--bg-color);\n",
              "    border: none;\n",
              "    border-radius: 50%;\n",
              "    cursor: pointer;\n",
              "    display: none;\n",
              "    fill: var(--fill-color);\n",
              "    height: 32px;\n",
              "    padding: 0;\n",
              "    width: 32px;\n",
              "  }\n",
              "\n",
              "  .colab-df-quickchart:hover {\n",
              "    background-color: var(--hover-bg-color);\n",
              "    box-shadow: 0 1px 2px rgba(60, 64, 67, 0.3), 0 1px 3px 1px rgba(60, 64, 67, 0.15);\n",
              "    fill: var(--button-hover-fill-color);\n",
              "  }\n",
              "\n",
              "  .colab-df-quickchart-complete:disabled,\n",
              "  .colab-df-quickchart-complete:disabled:hover {\n",
              "    background-color: var(--disabled-bg-color);\n",
              "    fill: var(--disabled-fill-color);\n",
              "    box-shadow: none;\n",
              "  }\n",
              "\n",
              "  .colab-df-spinner {\n",
              "    border: 2px solid var(--fill-color);\n",
              "    border-color: transparent;\n",
              "    border-bottom-color: var(--fill-color);\n",
              "    animation:\n",
              "      spin 1s steps(1) infinite;\n",
              "  }\n",
              "\n",
              "  @keyframes spin {\n",
              "    0% {\n",
              "      border-color: transparent;\n",
              "      border-bottom-color: var(--fill-color);\n",
              "      border-left-color: var(--fill-color);\n",
              "    }\n",
              "    20% {\n",
              "      border-color: transparent;\n",
              "      border-left-color: var(--fill-color);\n",
              "      border-top-color: var(--fill-color);\n",
              "    }\n",
              "    30% {\n",
              "      border-color: transparent;\n",
              "      border-left-color: var(--fill-color);\n",
              "      border-top-color: var(--fill-color);\n",
              "      border-right-color: var(--fill-color);\n",
              "    }\n",
              "    40% {\n",
              "      border-color: transparent;\n",
              "      border-right-color: var(--fill-color);\n",
              "      border-top-color: var(--fill-color);\n",
              "    }\n",
              "    60% {\n",
              "      border-color: transparent;\n",
              "      border-right-color: var(--fill-color);\n",
              "    }\n",
              "    80% {\n",
              "      border-color: transparent;\n",
              "      border-right-color: var(--fill-color);\n",
              "      border-bottom-color: var(--fill-color);\n",
              "    }\n",
              "    90% {\n",
              "      border-color: transparent;\n",
              "      border-bottom-color: var(--fill-color);\n",
              "    }\n",
              "  }\n",
              "</style>\n",
              "\n",
              "  <script>\n",
              "    async function quickchart(key) {\n",
              "      const quickchartButtonEl =\n",
              "        document.querySelector('#' + key + ' button');\n",
              "      quickchartButtonEl.disabled = true;  // To prevent multiple clicks.\n",
              "      quickchartButtonEl.classList.add('colab-df-spinner');\n",
              "      try {\n",
              "        const charts = await google.colab.kernel.invokeFunction(\n",
              "            'suggestCharts', [key], {});\n",
              "      } catch (error) {\n",
              "        console.error('Error during call to suggestCharts:', error);\n",
              "      }\n",
              "      quickchartButtonEl.classList.remove('colab-df-spinner');\n",
              "      quickchartButtonEl.classList.add('colab-df-quickchart-complete');\n",
              "    }\n",
              "    (() => {\n",
              "      let quickchartButtonEl =\n",
              "        document.querySelector('#df-1fcb5a86-5b9b-44e9-b54b-a0395f997557 button');\n",
              "      quickchartButtonEl.style.display =\n",
              "        google.colab.kernel.accessAllowed ? 'block' : 'none';\n",
              "    })();\n",
              "  </script>\n",
              "</div>\n",
              "\n",
              "    </div>\n",
              "  </div>\n"
            ],
            "application/vnd.google.colaboratory.intrinsic+json": {
              "type": "dataframe",
              "variable_name": "train_data",
              "summary": "{\n  \"name\": \"train_data\",\n  \"rows\": 900,\n  \"fields\": [\n    {\n      \"column\": \"cleaned_input_message\",\n      \"properties\": {\n        \"dtype\": \"string\",\n        \"num_unique_values\": 900,\n        \"samples\": [\n          \"TrdCaptRpt RptID=2225 TrdID=38789129366 TransTyp=0 RptTyp=2 TrdTyp=2 MtchID=39012215497 PxTyp=2 LastQty=13 LastPx=194 TrdDt=2023-09-28 BizDt=2023-09-28 TxnTm=2023-10-04T05:16:59.749-05:00 Hdr SID=PLDX TID=D286 PosDup=N PosRsnd=N Snt=2023-10-04T05:16:59.788-05:00 Hdr Instrmt Sym=BUI ID=BUI Src=H CFI=MKLPON MMY=202401 MatDt=2024-01-5 Mult=0.4 Exch=HDPL Instrmt RptSide Side=3 Ccy=USD InptSrc=DA InptDev=PORTAL CustCpcty=1 PosEfct=B ClOrdID=145 MLegRptTyp=2 AllocInd=1 Pty ID=PLDX R=20 Pty Pty ID=286 R=2 Pty Pty ID=286 R=9 Pty Pty ID=Ahlem-110 R=27 Sub ID=3 Typ=24 Sub Pty Pty ID=286 R=14 Pty TrdRegTS TS=2023-10-04T05:16:59.749-05:00 Typ=4 TrdRegTS RptSide TrdCaptRpt  TrdCaptRpt RptID=38789129366 TrdDt=2023-09-28 BizDt=2023-09-28 TxnTm=2023-10-04T05:16:59.749-05:00 TrdID=38789129366 TransTyp=3 RptTyp=0 LastQty=13.0 LastPx=194.0 Hdr Snt=2023-10-04T11:18:32.348+01:00 TID=PLDX SID=D286 Instrmt Exch=HDPL ID=BUI MMY=202401 CFI=FXXXXX RptSide Side=3 CustCpcty=2 Pty ID=286 R=2 Pty ID=MPLAMP6 R=27 Sub ID=3 Typ=24 Pty RptSide TrdCaptRpt \",\n          \"TrdCaptRpt RptID=2758 TrdID=35273081338 TransTyp=0 RptTyp=2 TrdTyp=2 MtchID=39738251033 PxTyp=2 LastQty=20 LastPx=146 TrdDt=2023-06-05 BizDt=2023-06-05 TxnTm=2023-11-12T05:16:59.749-05:00 Hdr SID=MGEX TID=D247 PosDup=N PosRsnd=N Snt=2023-11-12T05:16:59.788-05:00 Hdr Instrmt Sym=BUI ID=BUI Src=J CFI=APYBKL MMY=202401 MatDt=2024-01-5 Mult=0.1 Exch=HDPL Instrmt RptSide Side=1 Ccy=USD InptSrc=BS InptDev=PORTAL CustCpcty=1 PosEfct=B ClOrdID=123 MLegRptTyp=1 AllocInd=1 Pty ID=MGEX R=22 Pty Pty ID=247 R=3 Pty Pty ID=247 R=7 Pty Pty ID=Emira-115 R=28 Sub ID=3 Typ=28 Sub Pty Pty ID=247 R=18 Pty TrdRegTS TS=2023-11-12T05:16:59.749-05:00 Typ=3 TrdRegTS RptSide TrdCaptRpt  TrdCaptRpt RptID=35273081338 TrdDt=2023-06-05 BizDt=2023-06-05 TxnTm=2023-11-12T05:16:59.749-05:00 TrdID=35273081338 TransTyp=3 RptTyp=0 LastQty=20.0 LastPx=146.0 Hdr Snt=2023-11-12T11:18:30.348+01:00 TID=MGEX SID=D247 Instrmt Exch=HDPL ID=BUI MMY=202401 CFI=FXXXXX RptSide Side=1 CustCpcty=3 Pty ID=247 R=3 Pty ID=FIRMACT1 R=28 Sub ID=3 Typ=28 Pty RptSide TrdCaptRpt \",\n          \"TrdCaptRpt RptID=2623 TrdID=38894836060 TransTyp=0 RptTyp=2 TrdTyp=2 MtchID=22946886386 PxTyp=2 LastQty=13 LastPx=166 TrdDt=2023-06-05 BizDt=2023-06-05 TxnTm=2023-11-27T05:16:59.749-05:00 Hdr SID=MGEX TID=D227 PosDup=N PosRsnd=N Snt=2023-11-27T05:16:59.788-05:00 Hdr Instrmt Sym=TMP ID=TMP Src=H CFI=FCCPXX MMY=202402 MatDt=2024-02-20 Mult=0.5 Exch=SNTL Instrmt RptSide Side=1 Ccy=USD InptSrc=DA InptDev=PORTAL CustCpcty=1 PosEfct=D ClOrdID=123 MLegRptTyp=2 AllocInd=2 Pty ID=MGEX R=21 Pty Pty ID=227 R=3 Pty Pty ID=227 R=9 Pty Pty ID=Ahlem-110 R=27 Sub ID=1 Typ=22 Sub Pty Pty ID=227 R=18 Pty TrdRegTS TS=2023-11-27T05:16:59.749-05:00 Typ=3 TrdRegTS RptSide TrdCaptRpt  TrdCaptRpt RptID=38894836060 TrdDt=2023-06-05 BizDt=2023-06-05 TxnTm=2023-11-27T05:16:59.749-05:00 TrdID=38894836060 TransTyp=1 RptTyp=0 LastQty=13.0 LastPx=166.0 Hdr Snt=2023-11-27T11:17:55.348+01:00 TID=MGEX SID=D227 Instrmt Exch=SNTL ID=TMP MMY=202402 CFI=FXXXXX RptSide Side=1 CustCpcty=5 Pty ID=227 R=3 Pty ID=AKLPM9 R=27 Sub ID=1 Typ=22 Pty RptSide TrdCaptRpt \"\n        ],\n        \"semantic_type\": \"\",\n        \"description\": \"\"\n      }\n    },\n    {\n      \"column\": \"CCP_Message\",\n      \"properties\": {\n        \"dtype\": \"string\",\n        \"num_unique_values\": 900,\n        \"samples\": [\n          \"<TrdCaptRpt RptID=\\\"2225\\\" TrdID=\\\"38789129366\\\" TransTyp=\\\"3\\\" RptTyp=\\\"2\\\" TrdTyp=\\\"2\\\" MtchID=\\\"39012215497\\\" PxTyp=\\\"2\\\" LastQty=\\\"13\\\" LastPx=\\\"194\\\" TrdDt=\\\"2023-09-28\\\" BizDt=\\\"2023-09-28\\\" TxnTm=\\\"2023-10-04T05:18:32.138-05:00\\\"><Hdr SID=\\\"PLDX\\\" TID=\\\"D286\\\" PosDup=\\\"N\\\" PosRsnd=\\\"N\\\" Snt=\\\"2023-10-04T05:18:32.160-05:00\\\"></Hdr><Instrmt Sym=\\\"BUI\\\" ID=\\\"BUI\\\" Src=\\\"H\\\" CFI=\\\"MKLPON\\\" MMY=\\\"202401\\\" MatDt=\\\"2024-01-5\\\" Mult=\\\"0.4\\\" Exch=\\\"HDPL\\\"></Instrmt><RptSide Side=\\\"3\\\" Ccy=\\\"USD\\\" InptSrc=\\\"DA\\\" InptDev=\\\"PORTAL\\\" CustCpcty=\\\"2\\\" PosEfct=\\\"B\\\" ClOrdID=\\\"145\\\" MLegRptTyp=\\\"2\\\" AllocInd=\\\"1\\\"><Pty ID=\\\"PLDX\\\" R=\\\"20\\\"></Pty><Pty ID=\\\"286\\\" R=\\\"2\\\"></Pty><Pty ID=\\\"286\\\" R=\\\"9\\\"></Pty><Pty ID=\\\"MPLAMP6\\\" R=\\\"27\\\"><Sub ID=\\\"3\\\" Typ=\\\"24\\\"></Sub></Pty><Pty ID=\\\"286\\\" R=\\\"14\\\"></Pty><TrdRegTS TS=\\\"2023-10-04T05:16:59.749-05:00\\\" Typ=\\\"4\\\"></TrdRegTS></RptSide></TrdCaptRpt>\",\n          \"<TrdCaptRpt RptID=\\\"2758\\\" TrdID=\\\"35273081338\\\" TransTyp=\\\"3\\\" RptTyp=\\\"2\\\" TrdTyp=\\\"2\\\" MtchID=\\\"39738251033\\\" PxTyp=\\\"2\\\" LastQty=\\\"20\\\" LastPx=\\\"146\\\" TrdDt=\\\"2023-06-05\\\" BizDt=\\\"2023-06-05\\\" TxnTm=\\\"2023-11-12T05:18:30.138-05:00\\\"><Hdr SID=\\\"MGEX\\\" TID=\\\"D247\\\" PosDup=\\\"N\\\" PosRsnd=\\\"N\\\" Snt=\\\"2023-11-12T05:18:30.160-05:00\\\"></Hdr><Instrmt Sym=\\\"BUI\\\" ID=\\\"BUI\\\" Src=\\\"J\\\" CFI=\\\"APYBKL\\\" MMY=\\\"202401\\\" MatDt=\\\"2024-01-5\\\" Mult=\\\"0.1\\\" Exch=\\\"HDPL\\\"></Instrmt><RptSide Side=\\\"1\\\" Ccy=\\\"USD\\\" InptSrc=\\\"BS\\\" InptDev=\\\"PORTAL\\\" CustCpcty=\\\"3\\\" PosEfct=\\\"B\\\" ClOrdID=\\\"123\\\" MLegRptTyp=\\\"1\\\" AllocInd=\\\"1\\\"><Pty ID=\\\"MGEX\\\" R=\\\"22\\\"></Pty><Pty ID=\\\"247\\\" R=\\\"3\\\"></Pty><Pty ID=\\\"247\\\" R=\\\"7\\\"></Pty><Pty ID=\\\"FIRMACT1\\\" R=\\\"28\\\"><Sub ID=\\\"3\\\" Typ=\\\"28\\\"></Sub></Pty><Pty ID=\\\"247\\\" R=\\\"18\\\"></Pty><TrdRegTS TS=\\\"2023-11-12T05:16:59.749-05:00\\\" Typ=\\\"3\\\"></TrdRegTS></RptSide></TrdCaptRpt>\",\n          \"<TrdCaptRpt RptID=\\\"2623\\\" TrdID=\\\"38894836060\\\" TransTyp=\\\"1\\\" RptTyp=\\\"2\\\" TrdTyp=\\\"2\\\" MtchID=\\\"22946886386\\\" PxTyp=\\\"2\\\" LastQty=\\\"13\\\" LastPx=\\\"166\\\" TrdDt=\\\"2023-06-05\\\" BizDt=\\\"2023-06-05\\\" TxnTm=\\\"2023-11-27T05:17:55.138-05:00\\\"><Hdr SID=\\\"MGEX\\\" TID=\\\"D227\\\" PosDup=\\\"N\\\" PosRsnd=\\\"N\\\" Snt=\\\"2023-11-27T05:17:55.160-05:00\\\"></Hdr><Instrmt Sym=\\\"TMP\\\" ID=\\\"TMP\\\" Src=\\\"H\\\" CFI=\\\"FCCPXX\\\" MMY=\\\"202402\\\" MatDt=\\\"2024-02-20\\\" Mult=\\\"0.5\\\" Exch=\\\"SNTL\\\"></Instrmt><RptSide Side=\\\"1\\\" Ccy=\\\"USD\\\" InptSrc=\\\"DA\\\" InptDev=\\\"PORTAL\\\" CustCpcty=\\\"5\\\" PosEfct=\\\"D\\\" ClOrdID=\\\"123\\\" MLegRptTyp=\\\"2\\\" AllocInd=\\\"2\\\"><Pty ID=\\\"MGEX\\\" R=\\\"21\\\"></Pty><Pty ID=\\\"227\\\" R=\\\"3\\\"></Pty><Pty ID=\\\"227\\\" R=\\\"9\\\"></Pty><Pty ID=\\\"AKLPM9\\\" R=\\\"27\\\"><Sub ID=\\\"1\\\" Typ=\\\"22\\\"></Sub></Pty><Pty ID=\\\"227\\\" R=\\\"18\\\"></Pty><TrdRegTS TS=\\\"2023-11-27T05:16:59.749-05:00\\\" Typ=\\\"3\\\"></TrdRegTS></RptSide></TrdCaptRpt>\"\n        ],\n        \"semantic_type\": \"\",\n        \"description\": \"\"\n      }\n    }\n  ]\n}"
            }
          },
          "metadata": {},
          "execution_count": 119
        }
      ]
    },
    {
      "cell_type": "code",
      "source": [
        "test_data = pd.concat([X_val, y_val], axis=1)"
      ],
      "metadata": {
        "id": "20uDhD_BPBpU"
      },
      "execution_count": 120,
      "outputs": []
    },
    {
      "cell_type": "code",
      "source": [
        "import torch\n",
        "from transformers import GPT2Tokenizer, GPT2LMHeadModel\n",
        "from torch.utils.data import DataLoader, Dataset"
      ],
      "metadata": {
        "id": "3o2YtIikPFhs"
      },
      "execution_count": 121,
      "outputs": []
    },
    {
      "cell_type": "code",
      "source": [
        "class CustomDataset(Dataset):\n",
        "    def __init__(self, data, tokenizer, max_length):\n",
        "        self.data = data\n",
        "        self.tokenizer = tokenizer\n",
        "        self.max_length = max_length\n",
        "\n",
        "    def __len__(self):\n",
        "        return len(self.data)\n",
        "\n",
        "    def __getitem__(self, index):\n",
        "        phrase = self.data.iloc[index]['cleaned_input_message']\n",
        "        target = self.data.iloc[index]['CCP_Message']\n",
        "\n",
        "        input_text = f\"{phrase} {target}\"\n",
        "\n",
        "        input_ids = self.tokenizer.encode(input_text, return_tensors='pt', max_length=self.max_length, truncation=True, padding='max_length')\n",
        "\n",
        "        return input_ids"
      ],
      "metadata": {
        "id": "Mg-lnIiWPIXO"
      },
      "execution_count": 122,
      "outputs": []
    },
    {
      "cell_type": "code",
      "source": [
        "tokenizer = GPT2Tokenizer.from_pretrained('distilgpt2')\n",
        "model = GPT2LMHeadModel.from_pretrained('distilgpt2')"
      ],
      "metadata": {
        "id": "tOb7g2GwPLNI"
      },
      "execution_count": 123,
      "outputs": []
    },
    {
      "cell_type": "code",
      "source": [
        "tokenizer.pad_token = tokenizer.eos_token"
      ],
      "metadata": {
        "id": "aqyA0L9tPNiF"
      },
      "execution_count": 124,
      "outputs": []
    },
    {
      "cell_type": "code",
      "source": [
        "MAX_LENGTH = 1000\n",
        "BATCH_SIZE = 2\n",
        "EPOCHS = 3"
      ],
      "metadata": {
        "id": "82lfGNXhPYbL"
      },
      "execution_count": 125,
      "outputs": []
    },
    {
      "cell_type": "code",
      "source": [
        "train_dataset = CustomDataset(train_data, tokenizer, MAX_LENGTH)\n",
        "test_dataset = CustomDataset(test_data, tokenizer, MAX_LENGTH)"
      ],
      "metadata": {
        "id": "d-1WTc3dPcLz"
      },
      "execution_count": 126,
      "outputs": []
    },
    {
      "cell_type": "code",
      "source": [
        "print(type(train_dataset[0]))"
      ],
      "metadata": {
        "colab": {
          "base_uri": "https://localhost:8080/"
        },
        "id": "CsrYPPAvPfnL",
        "outputId": "36ff5bf2-e837-4ad9-9463-1587f05c9491"
      },
      "execution_count": 127,
      "outputs": [
        {
          "output_type": "stream",
          "name": "stdout",
          "text": [
            "<class 'torch.Tensor'>\n"
          ]
        }
      ]
    },
    {
      "cell_type": "code",
      "source": [
        "train_loader = DataLoader(train_dataset, batch_size=BATCH_SIZE, shuffle=True)\n",
        "test_loader = DataLoader(test_dataset, batch_size=BATCH_SIZE, shuffle=False)"
      ],
      "metadata": {
        "id": "aN_bCg3YPhyd"
      },
      "execution_count": 128,
      "outputs": []
    },
    {
      "cell_type": "code",
      "source": [
        "device = torch.device('cuda' if torch.cuda.is_available() else 'cpu')\n",
        "model.to(device)"
      ],
      "metadata": {
        "colab": {
          "base_uri": "https://localhost:8080/"
        },
        "id": "x20Sma8fPjlE",
        "outputId": "f0580609-b2ac-45ed-bff3-f36b47ed459c"
      },
      "execution_count": 129,
      "outputs": [
        {
          "output_type": "execute_result",
          "data": {
            "text/plain": [
              "GPT2LMHeadModel(\n",
              "  (transformer): GPT2Model(\n",
              "    (wte): Embedding(50257, 768)\n",
              "    (wpe): Embedding(1024, 768)\n",
              "    (drop): Dropout(p=0.1, inplace=False)\n",
              "    (h): ModuleList(\n",
              "      (0-5): 6 x GPT2Block(\n",
              "        (ln_1): LayerNorm((768,), eps=1e-05, elementwise_affine=True)\n",
              "        (attn): GPT2Attention(\n",
              "          (c_attn): Conv1D()\n",
              "          (c_proj): Conv1D()\n",
              "          (attn_dropout): Dropout(p=0.1, inplace=False)\n",
              "          (resid_dropout): Dropout(p=0.1, inplace=False)\n",
              "        )\n",
              "        (ln_2): LayerNorm((768,), eps=1e-05, elementwise_affine=True)\n",
              "        (mlp): GPT2MLP(\n",
              "          (c_fc): Conv1D()\n",
              "          (c_proj): Conv1D()\n",
              "          (act): NewGELUActivation()\n",
              "          (dropout): Dropout(p=0.1, inplace=False)\n",
              "        )\n",
              "      )\n",
              "    )\n",
              "    (ln_f): LayerNorm((768,), eps=1e-05, elementwise_affine=True)\n",
              "  )\n",
              "  (lm_head): Linear(in_features=768, out_features=50257, bias=False)\n",
              ")"
            ]
          },
          "metadata": {},
          "execution_count": 129
        }
      ]
    },
    {
      "cell_type": "code",
      "source": [
        "optimizer = torch.optim.AdamW(model.parameters(), lr=2e-5)"
      ],
      "metadata": {
        "id": "iMEltm71PmAc"
      },
      "execution_count": 130,
      "outputs": []
    },
    {
      "cell_type": "code",
      "source": [
        "for epoch in range(EPOCHS):\n",
        "    model.train()\n",
        "    total_loss = 0\n",
        "    for batch in train_loader:\n",
        "        input_ids = batch.to(device)\n",
        "\n",
        "        labels = input_ids.clone()\n",
        "        labels[:, :-1] = -100\n",
        "\n",
        "        optimizer.zero_grad()\n",
        "\n",
        "        outputs = model(input_ids, labels=labels)\n",
        "        loss = outputs.loss\n",
        "        loss.backward()\n",
        "        optimizer.step()\n",
        "\n",
        "        total_loss += loss.item()\n",
        "\n",
        "    avg_train_loss = total_loss / len(train_loader)\n",
        "    print(f'Epoch {epoch+1}/{EPOCHS}, Average Training Loss: {avg_train_loss}')"
      ],
      "metadata": {
        "colab": {
          "base_uri": "https://localhost:8080/"
        },
        "id": "AIk6ZzMePo1-",
        "outputId": "6865b913-4076-4b67-db6e-6715d9937d11"
      },
      "execution_count": 131,
      "outputs": [
        {
          "output_type": "stream",
          "name": "stdout",
          "text": [
            "Epoch 1/3, Average Training Loss: 0.5251493574844466\n",
            "Epoch 2/3, Average Training Loss: 0.14772112485435274\n",
            "Epoch 3/3, Average Training Loss: 0.13237867759333716\n"
          ]
        }
      ]
    },
    {
      "cell_type": "code",
      "source": [
        "model.eval()\n",
        "total_loss = 0\n",
        "\n",
        "with torch.no_grad():\n",
        "    for batch in test_loader:\n",
        "        input_ids = batch.to(device)\n",
        "\n",
        "        labels = input_ids.clone()\n",
        "        labels[:, :-1] = -100\n",
        "\n",
        "        outputs = model(input_ids, labels=labels)\n",
        "        loss = outputs.loss\n",
        "\n",
        "        total_loss += loss.item()\n",
        "\n",
        "avg_test_loss = total_loss / len(test_loader)\n",
        "print(f'Average Test Loss: {avg_test_loss}')"
      ],
      "metadata": {
        "colab": {
          "base_uri": "https://localhost:8080/"
        },
        "id": "yBbdl2-aSE7D",
        "outputId": "ff528e75-d2f6-4cf4-a37f-b06987add44d"
      },
      "execution_count": 132,
      "outputs": [
        {
          "output_type": "stream",
          "name": "stdout",
          "text": [
            "Average Test Loss: 0.1188313314318657\n"
          ]
        }
      ]
    },
    {
      "cell_type": "code",
      "source": [
        "test_data.iloc[1]['CCP_Message']"
      ],
      "metadata": {
        "colab": {
          "base_uri": "https://localhost:8080/",
          "height": 105
        },
        "id": "3XlnqCL0SO8j",
        "outputId": "7efd42b2-d807-4121-8170-150d0320d241"
      },
      "execution_count": 133,
      "outputs": [
        {
          "output_type": "execute_result",
          "data": {
            "text/plain": [
              "'<TrdCaptRpt RptID=\"2734\" TrdID=\"32045411290\" TransTyp=\"2\" RptTyp=\"2\" TrdTyp=\"2\" MtchID=\"35827226987\" PxTyp=\"2\" LastQty=\"20\" LastPx=\"199\" TrdDt=\"2023-06-05\" BizDt=\"2023-06-05\" TxnTm=\"2023-11-12T05:18:30.138-05:00\"><Hdr SID=\"PLDX\" TID=\"D242\" PosDup=\"N\" PosRsnd=\"N\" Snt=\"2023-11-12T05:18:30.160-05:00\"></Hdr><Instrmt Sym=\"BUI\" ID=\"BUI\" Src=\"K\" CFI=\"MKLPON\" MMY=\"202401\" MatDt=\"2024-01-20\" Mult=\"0.5\" Exch=\"SNTL\"></Instrmt><RptSide Side=\"2\" Ccy=\"USD\" InptSrc=\"BS\" InptDev=\"PORTAL\" CustCpcty=\"5\" PosEfct=\"C\" ClOrdID=\"134\" MLegRptTyp=\"2\" AllocInd=\"0\"><Pty ID=\"PLDX\" R=\"21\"></Pty><Pty ID=\"242\" R=\"2\"></Pty><Pty ID=\"242\" R=\"8\"></Pty><Pty ID=\"FIRMACT1\" R=\"26\"><Sub ID=\"2\" Typ=\"30\"></Sub></Pty><Pty ID=\"242\" R=\"14\"></Pty><TrdRegTS TS=\"2023-11-12T05:16:59.749-05:00\" Typ=\"4\"></TrdRegTS></RptSide></TrdCaptRpt>'"
            ],
            "application/vnd.google.colaboratory.intrinsic+json": {
              "type": "string"
            }
          },
          "metadata": {},
          "execution_count": 133
        }
      ]
    },
    {
      "cell_type": "code",
      "source": [
        "model.eval()\n",
        "new_sequence = test_data.iloc[1]['cleaned_input_message']\n",
        "input_ids = tokenizer.encode(new_sequence, return_tensors='pt').to(device)\n",
        "\n",
        "output = model.generate(input_ids, max_length=1000, num_return_sequences=1, pad_token_id=tokenizer.eos_token_id)\n",
        "\n",
        "decoded_output = tokenizer.decode(output[0], skip_special_tokens=True)\n",
        "output_sequence = decoded_output[len(new_sequence):].strip()\n",
        "output_sequence"
      ],
      "metadata": {
        "colab": {
          "base_uri": "https://localhost:8080/",
          "height": 105
        },
        "id": "zwu4dYVSSHuL",
        "outputId": "983d439b-b5ee-4d6e-d60a-0ff19ac22ce7"
      },
      "execution_count": 134,
      "outputs": [
        {
          "output_type": "execute_result",
          "data": {
            "text/plain": [
              "'<TrdCaptRpt RptID=\"2734\" TrdID=\"32045411290\" TransTyp=\"2\" RptTyp=\"2\" TrdTyp=\"2\" MtchID=\"35827226987\" PxTyp=\"2\" LastQty=\"20\" LastPx=\"199\" TrdDt=\"2023-06-05\" BizDt=\"2023-06-05\" TxnTm=\"2023-11-12T05:18:30.138-05:00\"><Hdr SID=\"PLDX\" TID=\"D242\" PosDup=\"N\" PosRsnd=\"N\" Snt=\"2023-11-12T05:18:30.160-05:00\"></Hdr><Instrmt Sym=\"BUI\" ID=\"BUI\" Src=\"K\" CFI=\"MKLPON\" MMY=\"202401\" MatDt=\"2024-01-20\" Mult=\"0.5\" Exch=\"SNTL\"></Instrmt><RptSide Side=\"2\" Ccy=\"USD\" InptSrc=\"BS\" InptDev=\"PORTAL\" CustCpcty=\"5\" PosEfct=\"C\" ClOrdID=\"134\" MLegRptTyp=\"2\" AllocInd=\"0\"><Pty ID=\"PLDX\" R=\"21\"></Pty><Pty ID=\"242\" R=\"2\"></Pty><Pty ID=\"242\" R=\"8\"></Pty><Pty ID=\"FIRMACT1\" R=\"26\"><Sub ID=\"2\" Typ=\"30\"></Sub></Pty><Pty ID=\"242\" R=\"14\"></Pty><TrdRegTS TS=\"2023-11-12T05:16:59.749-05:00\" Typ=\"4\"></TrdRegTS></RptSide></TrdCaptRpt>'"
            ],
            "application/vnd.google.colaboratory.intrinsic+json": {
              "type": "string"
            }
          },
          "metadata": {},
          "execution_count": 134
        }
      ]
    },
    {
      "cell_type": "code",
      "source": [
        "if test_data.iloc[1]['CCP_Message'] == output_sequence:\n",
        "  print(1)\n",
        "else:\n",
        "  print(0)"
      ],
      "metadata": {
        "colab": {
          "base_uri": "https://localhost:8080/"
        },
        "id": "a5iSLf71STzT",
        "outputId": "691222ea-6885-42b6-c3f8-bb9521f6600d"
      },
      "execution_count": 135,
      "outputs": [
        {
          "output_type": "stream",
          "name": "stdout",
          "text": [
            "1\n"
          ]
        }
      ]
    },
    {
      "cell_type": "code",
      "source": [
        "def predict(seq):\n",
        "  model.eval()\n",
        "  input_ids = tokenizer.encode(seq, return_tensors='pt').to(device)\n",
        "  output = model.generate(input_ids, max_length=1000, num_return_sequences=1, pad_token_id=tokenizer.eos_token_id)\n",
        "  decoded_output = tokenizer.decode(output[0], skip_special_tokens=True)\n",
        "  output_sequence = decoded_output[len(seq):].strip()\n",
        "  return output_sequence"
      ],
      "metadata": {
        "id": "u-7yVGVpS2C7"
      },
      "execution_count": 136,
      "outputs": []
    },
    {
      "cell_type": "code",
      "source": [
        "test_data.iloc[0]['CCP_Message']"
      ],
      "metadata": {
        "colab": {
          "base_uri": "https://localhost:8080/",
          "height": 105
        },
        "id": "AtfHrFWGTBSL",
        "outputId": "a4b1957b-8c47-42bb-f774-2a281f70ad9c"
      },
      "execution_count": 137,
      "outputs": [
        {
          "output_type": "execute_result",
          "data": {
            "text/plain": [
              "'<TrdCaptRpt RptID=\"2248\" TrdID=\"25894873152\" TransTyp=\"2\" RptTyp=\"2\" TrdTyp=\"2\" MtchID=\"39136266640\" PxTyp=\"2\" LastQty=\"14\" LastPx=\"144\" TrdDt=\"2022-12-17\" BizDt=\"2022-12-17\" TxnTm=\"2023-09-30T05:18:30.138-05:00\"><Hdr SID=\"MGEX\" TID=\"D278\" PosDup=\"P\" PosRsnd=\"P\" Snt=\"2023-09-30T05:18:30.160-05:00\"></Hdr><Instrmt Sym=\"BUI\" ID=\"BUI\" Src=\"H\" CFI=\"FCCPXX\" MMY=\"202402\" MatDt=\"2024-02-1\" Mult=\"0.5\" Exch=\"BTNL\"></Instrmt><RptSide Side=\"1\" Ccy=\"USD\" InptSrc=\"BS\" InptDev=\"PORTAL\" CustCpcty=\"5\" PosEfct=\"D\" ClOrdID=\"145\" MLegRptTyp=\"1\" AllocInd=\"0\"><Pty ID=\"MGEX\" R=\"23\"></Pty><Pty ID=\"278\" R=\"2\"></Pty><Pty ID=\"278\" R=\"6\"></Pty><Pty ID=\"MPLAMP6\" R=\"29\"><Sub ID=\"1\" Typ=\"20\"></Sub></Pty><Pty ID=\"278\" R=\"16\"></Pty><TrdRegTS TS=\"2023-09-30T05:17:18.749-05:00\" Typ=\"3\"></TrdRegTS></RptSide></TrdCaptRpt>'"
            ],
            "application/vnd.google.colaboratory.intrinsic+json": {
              "type": "string"
            }
          },
          "metadata": {},
          "execution_count": 137
        }
      ]
    },
    {
      "cell_type": "code",
      "source": [
        "predict(test_data.iloc[0]['cleaned_input_message'])"
      ],
      "metadata": {
        "colab": {
          "base_uri": "https://localhost:8080/",
          "height": 105
        },
        "id": "jzERvtLNS9Fz",
        "outputId": "d21fc337-c23a-4ab7-9f2b-a87bfc2ad142"
      },
      "execution_count": 138,
      "outputs": [
        {
          "output_type": "execute_result",
          "data": {
            "text/plain": [
              "'<TrdCaptRpt RptID=\"2248\" TrdID=\"25894873152\" TransTyp=\"2\" RptTyp=\"2\" TrdTyp=\"2\" MtchID=\"39136266640\" PxTyp=\"2\" LastQty=\"14\" LastPx=\"144\" TrdDt=\"2022-12-17\" BizDt=\"2022-12-17\" TxnTm=\"2023-09-30T05:18:30.138-05:00\"><Hdr SID=\"MGEX\" TID=\"D278\" PosDup=\"P\" PosRsnd=\"P\" Snt=\"2023-09-30T05:18:30.160-05:00\"></Hdr><Instrmt Sym=\"BUI\" ID=\"BUI\" Src=\"H\" CFI=\"FCCPXX\" MMY=\"202402\" MatDt=\"2024-02-1\" Mult=\"0.5\" Exch=\"BTNL\"></Instrmt><RptSide Side=\"1\" Ccy=\"USD\" InptSrc=\"BS\" InptDev=\"PORTAL\" CustCpcty=\"5\" PosEfct=\"D\" ClOrdID=\"145\" MLegRptTyp=\"1\" AllocInd=\"0\"><Pty ID=\"MGEX\" R=\"23\"></Pty><Pty ID=\"278\" R=\"2\"></Pty><Pty ID=\"278\" R=\"6\"></Pty><Pty ID=\"MPLAMP6\" R=\"29\"><Sub ID=\"1\" Typ=\"20\"></Sub></Pty><Pty ID=\"278\" R=\"16\"></Pty><TrdRegTS TS=\"2023-09-30T05:17:18.749-05:00\" Typ=\"3\"></TrdRegTS></RptSide></TrdCaptRpt>'"
            ],
            "application/vnd.google.colaboratory.intrinsic+json": {
              "type": "string"
            }
          },
          "metadata": {},
          "execution_count": 138
        }
      ]
    },
    {
      "cell_type": "code",
      "source": [
        "test_data.iloc[2]['CCP_Message']"
      ],
      "metadata": {
        "colab": {
          "base_uri": "https://localhost:8080/",
          "height": 105
        },
        "id": "38rFvMdbTKuM",
        "outputId": "0589e8fe-4087-421f-8763-c0158ac9d257"
      },
      "execution_count": 139,
      "outputs": [
        {
          "output_type": "execute_result",
          "data": {
            "text/plain": [
              "'<TrdCaptRpt RptID=\"2184\" TrdID=\"31247181641\" TransTyp=\"2\" RptTyp=\"2\" TrdTyp=\"2\" MtchID=\"30016019669\" PxTyp=\"2\" LastQty=\"13\" LastPx=\"107\" TrdDt=\"2023-04-20\" BizDt=\"2023-04-20\" TxnTm=\"2023-09-30T05:17:40.138-05:00\"><Hdr SID=\"MGEX\" TID=\"D208\" PosDup=\"M\" PosRsnd=\"M\" Snt=\"2023-09-30T05:17:40.160-05:00\"></Hdr><Instrmt Sym=\"BUI\" ID=\"BUI\" Src=\"J\" CFI=\"APYBKL\" MMY=\"202402\" MatDt=\"2024-02-13\" Mult=\"0.3\" Exch=\"HDPL\"></Instrmt><RptSide Side=\"3\" Ccy=\"USD\" InptSrc=\"MA\" InptDev=\"PORTAL\" CustCpcty=\"5\" PosEfct=\"C\" ClOrdID=\"145\" MLegRptTyp=\"2\" AllocInd=\"2\"><Pty ID=\"MGEX\" R=\"20\"></Pty><Pty ID=\"208\" R=\"3\"></Pty><Pty ID=\"208\" R=\"9\"></Pty><Pty ID=\"MPLAMP6\" R=\"29\"><Sub ID=\"3\" Typ=\"20\"></Sub></Pty><Pty ID=\"208\" R=\"12\"></Pty><TrdRegTS TS=\"2023-09-30T05:17:25.749-05:00\" Typ=\"3\"></TrdRegTS></RptSide></TrdCaptRpt>'"
            ],
            "application/vnd.google.colaboratory.intrinsic+json": {
              "type": "string"
            }
          },
          "metadata": {},
          "execution_count": 139
        }
      ]
    },
    {
      "cell_type": "code",
      "source": [
        "predict(test_data.iloc[2]['cleaned_input_message'])"
      ],
      "metadata": {
        "colab": {
          "base_uri": "https://localhost:8080/",
          "height": 105
        },
        "id": "fb2b5OgOTNF7",
        "outputId": "0b709619-ac73-4a1a-a5c3-d96a81157f03"
      },
      "execution_count": 140,
      "outputs": [
        {
          "output_type": "execute_result",
          "data": {
            "text/plain": [
              "'<TrdCaptRpt RptID=\"2184\" TrdID=\"31247181641\" TransTyp=\"2\" RptTyp=\"2\" TrdTyp=\"2\" MtchID=\"30016019669\" PxTyp=\"2\" LastQty=\"13\" LastPx=\"107\" TrdDt=\"2023-04-20\" BizDt=\"2023-04-20\" TxnTm=\"2023-09-30T05:17:40.138-05:00\"><Hdr SID=\"MGEX\" TID=\"D208\" PosDup=\"M\" PosRsnd=\"M\" Snt=\"2023-09-30T05:17:40.160-05:00\"></Hdr><Instrmt Sym=\"BUI\" ID=\"BUI\" Src=\"J\" CFI=\"APYBKL\" MMY=\"202402\" MatDt=\"2024-02-13\" Mult=\"0.3\" Exch=\"HDPL\"></Instrmt><RptSide Side=\"3\" Ccy=\"USD\" InptSrc=\"MA\" InptDev=\"PORTAL\" CustCpcty=\"5\" PosEfct=\"C\" ClOrdID=\"145\" MLegRptTyp=\"2\" AllocInd=\"2\"><Pty ID=\"MGEX\" R=\"20\"></Pty><Pty ID=\"208\" R=\"3\"></Pty><Pty ID=\"208\" R=\"9\"></Pty><Pty ID=\"MPLAMP6\" R=\"29\"><Sub ID=\"3\" Typ=\"20\"></Sub></Pty><Pty ID=\"208\" R=\"12\"></Pty><TrdRegTS TS=\"2023-09-30T05:17:25.749-05:00\" Typ=\"3\"></TrdRegTS></RptSide></TrdCaptRpt>'"
            ],
            "application/vnd.google.colaboratory.intrinsic+json": {
              "type": "string"
            }
          },
          "metadata": {},
          "execution_count": 140
        }
      ]
    },
    {
      "cell_type": "code",
      "source": [
        "test_data.iloc[3]['CCP_Message']"
      ],
      "metadata": {
        "colab": {
          "base_uri": "https://localhost:8080/",
          "height": 105
        },
        "id": "eb3-utjRWxZJ",
        "outputId": "54d5fbdf-ad85-4b1c-d8a7-fcb0d852becd"
      },
      "execution_count": 141,
      "outputs": [
        {
          "output_type": "execute_result",
          "data": {
            "text/plain": [
              "'<TrdCaptRpt RptID=\"2054\" TrdID=\"28032715232\" TransTyp=\"3\" RptTyp=\"2\" TrdTyp=\"2\" MtchID=\"33953671252\" PxTyp=\"2\" LastQty=\"18\" LastPx=\"186\" TrdDt=\"2023-04-20\" BizDt=\"2023-04-20\" TxnTm=\"2023-10-04T05:18:28.138-05:00\"><Hdr SID=\"HPJK\" TID=\"D211\" PosDup=\"M\" PosRsnd=\"M\" Snt=\"2023-10-04T05:18:28.160-05:00\"></Hdr><Instrmt Sym=\"BUI\" ID=\"BUI\" Src=\"K\" CFI=\"APYBKL\" MMY=\"202402\" MatDt=\"2024-02-18\" Mult=\"0.4\" Exch=\"SNTL\"></Instrmt><RptSide Side=\"1\" Ccy=\"USD\" InptSrc=\"MA\" InptDev=\"PORTAL\" CustCpcty=\"5\" PosEfct=\"D\" ClOrdID=\"134\" MLegRptTyp=\"1\" AllocInd=\"0\"><Pty ID=\"HPJK\" R=\"20\"></Pty><Pty ID=\"211\" R=\"3\"></Pty><Pty ID=\"211\" R=\"5\"></Pty><Pty ID=\"AKLPM9\" R=\"25\"><Sub ID=\"1\" Typ=\"21\"></Sub></Pty><Pty ID=\"211\" R=\"17\"></Pty><TrdRegTS TS=\"2023-10-04T05:16:59.749-05:00\" Typ=\"4\"></TrdRegTS></RptSide></TrdCaptRpt>'"
            ],
            "application/vnd.google.colaboratory.intrinsic+json": {
              "type": "string"
            }
          },
          "metadata": {},
          "execution_count": 141
        }
      ]
    },
    {
      "cell_type": "code",
      "source": [
        "predict(test_data.iloc[3]['cleaned_input_message'])"
      ],
      "metadata": {
        "colab": {
          "base_uri": "https://localhost:8080/",
          "height": 105
        },
        "id": "6DFgSbNjW4Lh",
        "outputId": "fa3dc93c-5cd9-4f62-ac30-19c8a3a34739"
      },
      "execution_count": 142,
      "outputs": [
        {
          "output_type": "execute_result",
          "data": {
            "text/plain": [
              "'<TrdCaptRpt RptID=\"2054\" TrdID=\"28032715232\" TransTyp=\"3\" RptTyp=\"2\" TrdTyp=\"2\" MtchID=\"33953671252\" PxTyp=\"2\" LastQty=\"18\" LastPx=\"186\" TrdDt=\"2023-04-20\" BizDt=\"2023-04-20\" TxnTm=\"2023-10-04T05:18:28.138-05:00\"><Hdr SID=\"HPJK\" TID=\"D211\" PosDup=\"M\" PosRsnd=\"M\" Snt=\"2023-10-04T05:18:28.160-05:00\"></Hdr><Instrmt Sym=\"BUI\" ID=\"BUI\" Src=\"K\" CFI=\"APYBKL\" MMY=\"202402\" MatDt=\"2024-02-18\" Mult=\"0.4\" Exch=\"SNTL\"></Instrmt><RptSide Side=\"1\" Ccy=\"USD\" InptSrc=\"MA\" InptDev=\"PORTAL\" CustCpcty=\"5\" PosEfct=\"D\" ClOrdID=\"134\" MLegRptTyp=\"1\" AllocInd=\"0\"><Pty ID=\"HPJK\" R=\"20\"></Pty><Pty ID=\"211\" R=\"3\"></Pty><Pty ID=\"211\" R=\"5\"></Pty><Pty ID=\"AKLPM9\" R=\"25\"><Sub ID=\"1\" Typ=\"21\"></Sub></Pty><Pty ID=\"211\" R=\"17\"></Pty><TrdRegTS TS=\"2023-10-04T05:16:59.749-05:00\" Typ=\"4\"></TrdRegTS></RptSide></TrdCaptRpt>'"
            ],
            "application/vnd.google.colaboratory.intrinsic+json": {
              "type": "string"
            }
          },
          "metadata": {},
          "execution_count": 142
        }
      ]
    },
    {
      "cell_type": "code",
      "source": [
        "test_data.iloc[4]['CCP_Message']"
      ],
      "metadata": {
        "colab": {
          "base_uri": "https://localhost:8080/",
          "height": 105
        },
        "id": "paxUUNbdW8aB",
        "outputId": "94154867-f929-482e-8869-e20a41fd9630"
      },
      "execution_count": 143,
      "outputs": [
        {
          "output_type": "execute_result",
          "data": {
            "text/plain": [
              "'<TrdCaptRpt RptID=\"2112\" TrdID=\"32530637159\" TransTyp=\"2\" RptTyp=\"2\" TrdTyp=\"2\" MtchID=\"24266632292\" PxTyp=\"2\" LastQty=\"17\" LastPx=\"131\" TrdDt=\"2023-09-28\" BizDt=\"2023-09-28\" TxnTm=\"2023-10-04T05:17:55.138-05:00\"><Hdr SID=\"PLDX\" TID=\"D288\" PosDup=\"M\" PosRsnd=\"M\" Snt=\"2023-10-04T05:17:55.160-05:00\"></Hdr><Instrmt Sym=\"BUI\" ID=\"BUI\" Src=\"J\" CFI=\"FCCPXX\" MMY=\"202312\" MatDt=\"2023-12-9\" Mult=\"0.5\" Exch=\"BTNL\"></Instrmt><RptSide Side=\"3\" Ccy=\"USD\" InptSrc=\"BS\" InptDev=\"PORTAL\" CustCpcty=\"2\" PosEfct=\"D\" ClOrdID=\"134\" MLegRptTyp=\"1\" AllocInd=\"2\"><Pty ID=\"PLDX\" R=\"22\"></Pty><Pty ID=\"288\" R=\"2\"></Pty><Pty ID=\"288\" R=\"7\"></Pty><Pty ID=\"AKLPM9\" R=\"24\"><Sub ID=\"2\" Typ=\"20\"></Sub></Pty><Pty ID=\"288\" R=\"19\"></Pty><TrdRegTS TS=\"2023-10-04T05:17:25.749-05:00\" Typ=\"1\"></TrdRegTS></RptSide></TrdCaptRpt>'"
            ],
            "application/vnd.google.colaboratory.intrinsic+json": {
              "type": "string"
            }
          },
          "metadata": {},
          "execution_count": 143
        }
      ]
    },
    {
      "cell_type": "code",
      "source": [
        "predict(test_data.iloc[4]['cleaned_input_message'])"
      ],
      "metadata": {
        "colab": {
          "base_uri": "https://localhost:8080/",
          "height": 105
        },
        "id": "zLbcoPkWW_dJ",
        "outputId": "c2920454-34db-4359-e0bb-0677d402295c"
      },
      "execution_count": 144,
      "outputs": [
        {
          "output_type": "execute_result",
          "data": {
            "text/plain": [
              "'<TrdCaptRpt RptID=\"2112\" TrdID=\"32530637159\" TransTyp=\"2\" RptTyp=\"2\" TrdTyp=\"2\" MtchID=\"24266632292\" PxTyp=\"2\" LastQty=\"17\" LastPx=\"131\" TrdDt=\"2023-09-28\" BizDt=\"2023-09-28\" TxnTm=\"2023-10-04T05:17:55.138-05:00\"><Hdr SID=\"PLDX\" TID=\"D288\" PosDup=\"M\" PosRsnd=\"M\" Snt=\"2023-10-04T05:17:55.160-05:00\"></Hdr><Instrmt Sym=\"BUI\" ID=\"BUI\" Src=\"J\" CFI=\"FCCPXX\" MMY=\"202312\" MatDt=\"2023-12-9\" Mult=\"0.5\" Exch=\"BTNL\"></Instrmt><RptSide Side=\"3\" Ccy=\"USD\" InptSrc=\"BS\" InptDev=\"PORTAL\" CustCpcty=\"2\" PosEfct=\"D\" ClOrdID=\"134\" MLegRptTyp=\"1\" AllocInd=\"2\"><Pty ID=\"PLDX\" R=\"22\"></Pty><Pty ID=\"288\" R=\"2\"></Pty><Pty ID=\"288\" R=\"7\"></Pty><Pty ID=\"AKLPM9\" R=\"24\"><Sub ID=\"2\" Typ=\"20\"></Sub></Pty><Pty ID=\"288\" R=\"19\"></Pty><TrdRegTS TS=\"2023-10-04T05:17:25.749-05:00\" Typ=\"1\"></TrdRegTS></RptSide></TrdCaptRpt>'"
            ],
            "application/vnd.google.colaboratory.intrinsic+json": {
              "type": "string"
            }
          },
          "metadata": {},
          "execution_count": 144
        }
      ]
    },
    {
      "cell_type": "code",
      "source": [
        "seq2 = \"\"\"<TrdCaptRpt RptID=\"5500\" TrdID=\"51281004700\" TransTyp=\"0\" RptTyp=\"2\" TrdTyp=\"2\" MtchID=\"60281001777\" PxTyp=\"2\" LastQty=\"50\" LastPx=\"1000\" TrdDt=\"2024-10-05\"\n",
        " BizDt=\"2024-10-05\" TxnTm=\"2025-11-11T05:08:30.749-05:00\"><Hdr SID=\"SMPL\" TID=\"D880\" PosDup=\"S\" PosRsnd=\"S\" Snt=\"2025-11-11T05:08:30.788-05:00\"></Hdr><Instrmt\n",
        " Sym=\"CMP\" ID=\"CMP\" Src=\"A\" CFI=\"LKPMNA\" MMY=\"202601\" MatDt=\"2026-01-05\" Mult=\"0.8\" Exch=\"PLMN\"></Instrmt><RptSide Side=\"5\" Ccy=\"USD\" InptSrc=\"SA\" InptDev=\"PORTAL\"\n",
        " CustCpcty=\"1\" PosEfct=\"P\" ClOrdID=\"990\" MLegRptTyp=\"9\" AllocInd=\"50\"><Pty ID=\"SMPL\" R=\"30\"></Pty><Pty ID=\"500\" R=\"7\"></Pty><Pty ID=\"500\" R=\"9\"></Pty><Pty ID=\"Basma-400\"\n",
        " R=\"32\"><Sub ID=\"5\" Typ=\"35\"></Sub></Pty><Pty ID=\"500\" R=\"31\"></Pty><TrdRegTS TS=\"2025-11-11T05:08:30.749-05:00\" Typ=\"8\"></TrdRegTS></RptSide></TrdCaptRpt>\n",
        "\n",
        "<TrdCaptRpt RptID=\"51281004700\" TrdDt=\"2024-10-05\" BizDt=\"2024-10-05\" TxnTm=\"2025-11-11T05:08:30.749-05:00\" TrdID=\"51281004700\" TransTyp=\"8\" RptTyp=\"0\" LastQty=\"50.0\"\n",
        " LastPx=\"1000.0\"><Hdr Snt=\"2025-11-11T11:09:15.348+01:00\" TID=\"SMPL\" SID=D880\"/><Instrmt Exch=\"PLMN\" ID=\"CMP\" MMY=\"202601\" CFI=\"FXXXXX\"/><RptSide Side=\"5\" CustCpcty=\"9\">\n",
        "<Pty ID=\"500\" R=\"7\"/><Pty ID=\"ABPL2\" R=\"32\"><Sub ID=\"5\" Typ=\"35\"/></Pty></RptSide></TrdCaptRpt>\"\"\".replace(\"\\n\",\"\")"
      ],
      "metadata": {
        "id": "w1jgcSNzXEFJ"
      },
      "execution_count": 158,
      "outputs": []
    },
    {
      "cell_type": "code",
      "source": [
        "clean_seq2 = clean_text(seq2)"
      ],
      "metadata": {
        "id": "W8reum9kXc0I"
      },
      "execution_count": 159,
      "outputs": []
    },
    {
      "cell_type": "code",
      "source": [
        "predict(clean_seq2)"
      ],
      "metadata": {
        "colab": {
          "base_uri": "https://localhost:8080/",
          "height": 105
        },
        "id": "U4GC_9-GXgl6",
        "outputId": "2d2899c5-c534-4aa3-8805-46c9e281a645"
      },
      "execution_count": 160,
      "outputs": [
        {
          "output_type": "execute_result",
          "data": {
            "text/plain": [
              "'<TrdCaptRpt RptID=\"5500\" TrdID=\"51281004700\" TransTyp=\"8\" RptTyp=\"2\" TrdTyp=\"2\" MtchID=\"60281001777\" PxTyp=\"2\" LastQty=\"50\" LastPx=\"1000\" TrdDt=\"2024-10-05\" BizDt=\"2024-10-05\" TxnTm=\"2025-11-11T05:09:15.138-05:00\"><Hdr SID=\"SMPL\" TID=\"D880\" PosDup=\"S\" PosRsnd=\"S\" Snt=\"2025-11-11T05:09:15.160-05:00\"></Hdr><Instrmt Sym=\"CMP\" ID=\"CMP\" Src=\"A\" CFI=\"LKPMNA\" MMY=\"202601\" MatDt=\"2026-01-05\" Mult=\"0.8\" Exch=\"PLMN\"></Instrmt><RptSide Side=\"5\" Ccy=\"USD\" InptSrc=\"SA\" InptDev=\"PORTAL\" CustCpcty=\"9\" PosEfct=\"P\" ClOrdID=\"990\" MLegRptTyp=\"9\" AllocInd=\"50\"><Pty ID=\"SMPL\" R=\"30\"></Pty><Pty ID=\"500\" R=\"7\"></Pty><Pty ID=\"500\" R=\"9\"></Pty><Pty ID=\"ABPL2\" R=\"32\"><Sub ID=\"5\" Typ=\"35\"></Sub></Pty><Pty ID=\"500\" R=\"31\"></Pty><TrdRegTS TS=\"2025-11-11T05:08:30.749-05:00\" Typ=\"8\"></TrdRegTS></RptSide></TrdCaptRpt>'"
            ],
            "application/vnd.google.colaboratory.intrinsic+json": {
              "type": "string"
            }
          },
          "metadata": {},
          "execution_count": 160
        }
      ]
    },
    {
      "cell_type": "code",
      "source": [
        "som = 0\n",
        "for i in range(100):\n",
        "  if test_data.iloc[i]['CCP_Message'] == predict(test_data.iloc[i]['cleaned_input_message']):\n",
        "    som = som+1"
      ],
      "metadata": {
        "id": "X135XfMKYoFR"
      },
      "execution_count": 148,
      "outputs": []
    },
    {
      "cell_type": "code",
      "source": [
        "print(som/100)"
      ],
      "metadata": {
        "colab": {
          "base_uri": "https://localhost:8080/"
        },
        "id": "QnRyf_EXaJK4",
        "outputId": "867ea3eb-a293-45a8-9fb0-ad3a96fc379d"
      },
      "execution_count": 149,
      "outputs": [
        {
          "output_type": "stream",
          "name": "stdout",
          "text": [
            "0.99\n"
          ]
        }
      ]
    },
    {
      "cell_type": "code",
      "source": [
        "som = 0\n",
        "for i in range(100):\n",
        "  if test_data.iloc[i]['CCP_Message'] != predict(test_data.iloc[i]['cleaned_input_message']):\n",
        "    print('Message', i)\n",
        "    print('Predicted message:')\n",
        "    print(predict(test_data.iloc[i]['cleaned_input_message']))\n",
        "    print('Test message')\n",
        "    print(test_data.iloc[i]['CCP_Message'])"
      ],
      "metadata": {
        "colab": {
          "base_uri": "https://localhost:8080/"
        },
        "id": "ttIi7NQpee4_",
        "outputId": "c8adde97-9509-4c89-8396-217c1468ed1c"
      },
      "execution_count": 161,
      "outputs": [
        {
          "output_type": "stream",
          "name": "stdout",
          "text": [
            "Message 83\n",
            "Predicted message:\n",
            "<TrdCaptRpt RptID=\"222222\" TrdID=\"35078472106\" TransTyp=\"3\" RptTyp=\"2\" TrdTyp=\"2\" MtchID=\"27022241539\" PxTyp=\"2\" LastQty=\"17\" LastPx=\"149\" TrdDt=\"2022-12-17\" BizDt=\"2022-12-17\" TxnTm=\"2023-11-27T05:17:55.138-05:00\"><Hdr SID=\"HPJK\" TID=\"D279\" PosDup=\"M\" PosRsnd=\"M\" Snt=\"2023-11-27T05:17:55.160-05:00\"></Hdr><Instrmt Sym=\"TMP\" ID=\"TMP\" Src=\"K\" CFI=\"MKLPON\" MMY=\"202402\" MatDt=\"2024-02-7\" Mult=\"0.3\" Exch=\"SNTL\"></Instrmt><RptSide Side=\"2\" Ccy=\"USD\" InptSrc=\"DA\" InptDev=\"PORTAL\" CustCpcty=\"2\" PosEfct=\"C\" ClOrdID=\"145\" MLegRptTyp=\"2\" AllocInd=\"2\"><Pty ID=\"HPJK\" R=\"20\"></Pty><Pty ID=\"279\" R=\"1\"></Pty><Pty ID=\"279\" R=\"7\"></Pty><Pty ID=\"FIRMACT1\" R=\"24\"><Sub ID=\"1\" Typ=\"29\"></Sub></Pty><Pty ID=\"279\" R=\"12\"></Pty><TrdRegTS TS=\"2023-11-27T05:17:30.749-05:00\" Typ=\"3\"></TrdRegTS></RptSide></TrdCaptRpt>\n",
            "Test message\n",
            "<TrdCaptRpt RptID=\"2222\" TrdID=\"35078472106\" TransTyp=\"3\" RptTyp=\"2\" TrdTyp=\"2\" MtchID=\"27022241539\" PxTyp=\"2\" LastQty=\"17\" LastPx=\"149\" TrdDt=\"2022-12-17\" BizDt=\"2022-12-17\" TxnTm=\"2023-11-27T05:17:55.138-05:00\"><Hdr SID=\"HPJK\" TID=\"D279\" PosDup=\"M\" PosRsnd=\"M\" Snt=\"2023-11-27T05:17:55.160-05:00\"></Hdr><Instrmt Sym=\"TMP\" ID=\"TMP\" Src=\"K\" CFI=\"MKLPON\" MMY=\"202402\" MatDt=\"2024-02-7\" Mult=\"0.3\" Exch=\"SNTL\"></Instrmt><RptSide Side=\"2\" Ccy=\"USD\" InptSrc=\"DA\" InptDev=\"PORTAL\" CustCpcty=\"2\" PosEfct=\"C\" ClOrdID=\"145\" MLegRptTyp=\"2\" AllocInd=\"2\"><Pty ID=\"HPJK\" R=\"20\"></Pty><Pty ID=\"279\" R=\"1\"></Pty><Pty ID=\"279\" R=\"7\"></Pty><Pty ID=\"FIRMACT1\" R=\"24\"><Sub ID=\"1\" Typ=\"29\"></Sub></Pty><Pty ID=\"279\" R=\"12\"></Pty><TrdRegTS TS=\"2023-11-27T05:17:30.749-05:00\" Typ=\"3\"></TrdRegTS></RptSide></TrdCaptRpt>\n"
          ]
        }
      ]
    }
  ]
}